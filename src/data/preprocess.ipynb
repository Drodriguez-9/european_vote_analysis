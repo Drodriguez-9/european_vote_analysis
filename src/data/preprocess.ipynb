{
 "cells": [
  {
   "cell_type": "code",
   "execution_count": 1,
   "metadata": {
    "ExecuteTime": {
     "end_time": "2024-04-01T19:16:34.099491Z",
     "start_time": "2024-04-01T19:16:33.677804Z"
    }
   },
   "outputs": [],
   "source": [
    "import pandas as pd\n",
    "import numpy as np\n",
    "import difflib"
   ]
  },
  {
   "cell_type": "code",
   "execution_count": 2,
   "metadata": {
    "ExecuteTime": {
     "end_time": "2024-04-01T19:16:34.115526Z",
     "start_time": "2024-04-01T19:16:34.101492Z"
    }
   },
   "outputs": [
    {
     "name": "stdout",
     "output_type": "stream",
     "text": [
      "C:\\Users\\s153529\\PycharmProjects\\european_vote_analysis\n"
     ]
    }
   ],
   "source": [
    "cd C:\\Users\\s153529\\PycharmProjects\\european_vote_analysis"
   ]
  },
  {
   "cell_type": "code",
   "execution_count": 97,
   "metadata": {
    "ExecuteTime": {
     "end_time": "2024-04-01T20:11:22.205967Z",
     "start_time": "2024-04-01T20:11:22.171968Z"
    }
   },
   "outputs": [],
   "source": [
    "data_european = pd.read_csv('data/raw/COMEPELDA_aggregate_v1.00.csv')\n",
    "data_national = pd.read_csv('data/raw/1999-2019_CHES_dataset_means.csv')\n",
    "country_codes = pd.read_csv('data/raw/countries.csv')  \n",
    "party_names = pd.read_csv('data/raw/partyNames_ncv3.csv')  "
   ]
  },
  {
   "cell_type": "code",
   "execution_count": 98,
   "metadata": {
    "ExecuteTime": {
     "end_time": "2024-04-01T20:11:23.322587Z",
     "start_time": "2024-04-01T20:11:23.302587Z"
    }
   },
   "outputs": [],
   "source": [
    "# Add country codes to national data\n",
    "data_european = pd.merge(data_european, country_codes, left_on='cName', right_on='Country', how='left')\n",
    "# drop 2006, 2007, 2013 years due to particular countries elections\n",
    "data_european = data_european.drop(data_european[data_european['ElYear'].isin([2006, 2007, 2013])].index)\n",
    "data_european.reset_index(drop=True, inplace=True)"
   ]
  },
  {
   "cell_type": "code",
   "outputs": [
    {
     "data": {
      "text/plain": "   IDAD    cName  ElYear  IDpty                                   pName  \\\n0     1  Austria    1999     50        Freiheitliche Partei Österreichs   \n1     2  Austria    1999    955                         Liberales Forum   \n2     3  Austria    1999    973  Sozialdemokratische Partei Österreichs   \n3     4  Austria    1999   1013             Österreichische Volkspartei   \n4     5  Austria    1999   1429      Die Grünen – Die Grüne Alternative   \n\n          dName      dNameEng   cValid   dValid   pcAbs  ... pAddLisbon  \\\n0  (nationwide)  (nationwide)  2801353  2801353  655519  ...          0   \n1  (nationwide)  (nationwide)  2801353  2801353   74467  ...          0   \n2  (nationwide)  (nationwide)  2801353  2801353  888338  ...          0   \n3  (nationwide)  (nationwide)  2801353  2801353  859175  ...          0   \n4  (nationwide)  (nationwide)  2801353  2801353  260273  ...          0   \n\n  pAlliance01 IDauxAlliance pApparParty1 pApparParty2  IDauxElec  IDauxIndep  \\\n0           0             .            .            .         16           .   \n1           0             .            .            .         16           .   \n2           0             .            .            .         16           .   \n3           0             .            .            .         16           .   \n4           0             .            .            .         16           .   \n\n   ID  Abbreviation  Country  \n0  13           AUS  Austria  \n1  13           AUS  Austria  \n2  13           AUS  Austria  \n3  13           AUS  Austria  \n4  13           AUS  Austria  \n\n[5 rows x 49 columns]",
      "text/html": "<div>\n<style scoped>\n    .dataframe tbody tr th:only-of-type {\n        vertical-align: middle;\n    }\n\n    .dataframe tbody tr th {\n        vertical-align: top;\n    }\n\n    .dataframe thead th {\n        text-align: right;\n    }\n</style>\n<table border=\"1\" class=\"dataframe\">\n  <thead>\n    <tr style=\"text-align: right;\">\n      <th></th>\n      <th>IDAD</th>\n      <th>cName</th>\n      <th>ElYear</th>\n      <th>IDpty</th>\n      <th>pName</th>\n      <th>dName</th>\n      <th>dNameEng</th>\n      <th>cValid</th>\n      <th>dValid</th>\n      <th>pcAbs</th>\n      <th>...</th>\n      <th>pAddLisbon</th>\n      <th>pAlliance01</th>\n      <th>IDauxAlliance</th>\n      <th>pApparParty1</th>\n      <th>pApparParty2</th>\n      <th>IDauxElec</th>\n      <th>IDauxIndep</th>\n      <th>ID</th>\n      <th>Abbreviation</th>\n      <th>Country</th>\n    </tr>\n  </thead>\n  <tbody>\n    <tr>\n      <th>0</th>\n      <td>1</td>\n      <td>Austria</td>\n      <td>1999</td>\n      <td>50</td>\n      <td>Freiheitliche Partei Österreichs</td>\n      <td>(nationwide)</td>\n      <td>(nationwide)</td>\n      <td>2801353</td>\n      <td>2801353</td>\n      <td>655519</td>\n      <td>...</td>\n      <td>0</td>\n      <td>0</td>\n      <td>.</td>\n      <td>.</td>\n      <td>.</td>\n      <td>16</td>\n      <td>.</td>\n      <td>13</td>\n      <td>AUS</td>\n      <td>Austria</td>\n    </tr>\n    <tr>\n      <th>1</th>\n      <td>2</td>\n      <td>Austria</td>\n      <td>1999</td>\n      <td>955</td>\n      <td>Liberales Forum</td>\n      <td>(nationwide)</td>\n      <td>(nationwide)</td>\n      <td>2801353</td>\n      <td>2801353</td>\n      <td>74467</td>\n      <td>...</td>\n      <td>0</td>\n      <td>0</td>\n      <td>.</td>\n      <td>.</td>\n      <td>.</td>\n      <td>16</td>\n      <td>.</td>\n      <td>13</td>\n      <td>AUS</td>\n      <td>Austria</td>\n    </tr>\n    <tr>\n      <th>2</th>\n      <td>3</td>\n      <td>Austria</td>\n      <td>1999</td>\n      <td>973</td>\n      <td>Sozialdemokratische Partei Österreichs</td>\n      <td>(nationwide)</td>\n      <td>(nationwide)</td>\n      <td>2801353</td>\n      <td>2801353</td>\n      <td>888338</td>\n      <td>...</td>\n      <td>0</td>\n      <td>0</td>\n      <td>.</td>\n      <td>.</td>\n      <td>.</td>\n      <td>16</td>\n      <td>.</td>\n      <td>13</td>\n      <td>AUS</td>\n      <td>Austria</td>\n    </tr>\n    <tr>\n      <th>3</th>\n      <td>4</td>\n      <td>Austria</td>\n      <td>1999</td>\n      <td>1013</td>\n      <td>Österreichische Volkspartei</td>\n      <td>(nationwide)</td>\n      <td>(nationwide)</td>\n      <td>2801353</td>\n      <td>2801353</td>\n      <td>859175</td>\n      <td>...</td>\n      <td>0</td>\n      <td>0</td>\n      <td>.</td>\n      <td>.</td>\n      <td>.</td>\n      <td>16</td>\n      <td>.</td>\n      <td>13</td>\n      <td>AUS</td>\n      <td>Austria</td>\n    </tr>\n    <tr>\n      <th>4</th>\n      <td>5</td>\n      <td>Austria</td>\n      <td>1999</td>\n      <td>1429</td>\n      <td>Die Grünen – Die Grüne Alternative</td>\n      <td>(nationwide)</td>\n      <td>(nationwide)</td>\n      <td>2801353</td>\n      <td>2801353</td>\n      <td>260273</td>\n      <td>...</td>\n      <td>0</td>\n      <td>0</td>\n      <td>.</td>\n      <td>.</td>\n      <td>.</td>\n      <td>16</td>\n      <td>.</td>\n      <td>13</td>\n      <td>AUS</td>\n      <td>Austria</td>\n    </tr>\n  </tbody>\n</table>\n<p>5 rows × 49 columns</p>\n</div>"
     },
     "execution_count": 99,
     "metadata": {},
     "output_type": "execute_result"
    }
   ],
   "source": [
    "data_european.head()"
   ],
   "metadata": {
    "collapsed": false,
    "ExecuteTime": {
     "end_time": "2024-04-01T20:11:25.343850Z",
     "start_time": "2024-04-01T20:11:25.319851Z"
    }
   },
   "execution_count": 99
  },
  {
   "cell_type": "code",
   "execution_count": 100,
   "metadata": {
    "ExecuteTime": {
     "end_time": "2024-04-01T20:11:26.911060Z",
     "start_time": "2024-04-01T20:11:26.904062Z"
    }
   },
   "outputs": [],
   "source": [
    "# add country codes to european data\n",
    "data_national = pd.merge(data_national, country_codes, left_on='country', right_on='ID', how='left')"
   ]
  },
  {
   "cell_type": "code",
   "outputs": [
    {
     "data": {
      "text/plain": "  CountryAbrev;partyID;partyAbrev;partyName;partyNameEng\n0         BE;102;PS;Parti Socialiste;Socialist Party    \n1    BE;103;SP;Socialistische Partij;Socialist Party    \n2  BE;103;SPA;Socialistische Partij Anders;Social...    \n3                           BE;104;ECOLO;Ecolo;Ecolo    \n4                        BE;105;AGALEV;Agalev;Agalev    ",
      "text/html": "<div>\n<style scoped>\n    .dataframe tbody tr th:only-of-type {\n        vertical-align: middle;\n    }\n\n    .dataframe tbody tr th {\n        vertical-align: top;\n    }\n\n    .dataframe thead th {\n        text-align: right;\n    }\n</style>\n<table border=\"1\" class=\"dataframe\">\n  <thead>\n    <tr style=\"text-align: right;\">\n      <th></th>\n      <th>CountryAbrev;partyID;partyAbrev;partyName;partyNameEng</th>\n    </tr>\n  </thead>\n  <tbody>\n    <tr>\n      <th>0</th>\n      <td>BE;102;PS;Parti Socialiste;Socialist Party</td>\n    </tr>\n    <tr>\n      <th>1</th>\n      <td>BE;103;SP;Socialistische Partij;Socialist Party</td>\n    </tr>\n    <tr>\n      <th>2</th>\n      <td>BE;103;SPA;Socialistische Partij Anders;Social...</td>\n    </tr>\n    <tr>\n      <th>3</th>\n      <td>BE;104;ECOLO;Ecolo;Ecolo</td>\n    </tr>\n    <tr>\n      <th>4</th>\n      <td>BE;105;AGALEV;Agalev;Agalev</td>\n    </tr>\n  </tbody>\n</table>\n</div>"
     },
     "execution_count": 101,
     "metadata": {},
     "output_type": "execute_result"
    }
   ],
   "source": [
    "party_names.head()"
   ],
   "metadata": {
    "collapsed": false,
    "ExecuteTime": {
     "end_time": "2024-04-01T20:11:28.222688Z",
     "start_time": "2024-04-01T20:11:28.205690Z"
    }
   },
   "execution_count": 101
  },
  {
   "cell_type": "code",
   "outputs": [
    {
     "ename": "KeyError",
     "evalue": "'partyID'",
     "output_type": "error",
     "traceback": [
      "\u001B[1;31m---------------------------------------------------------------------------\u001B[0m",
      "\u001B[1;31mKeyError\u001B[0m                                  Traceback (most recent call last)",
      "Cell \u001B[1;32mIn[92], line 1\u001B[0m\n\u001B[1;32m----> 1\u001B[0m data_national \u001B[38;5;241m=\u001B[39m \u001B[43mpd\u001B[49m\u001B[38;5;241;43m.\u001B[39;49m\u001B[43mmerge\u001B[49m\u001B[43m(\u001B[49m\u001B[43mdata_national\u001B[49m\u001B[43m,\u001B[49m\u001B[43m \u001B[49m\u001B[43mparty_names\u001B[49m\u001B[43m,\u001B[49m\u001B[43m \u001B[49m\u001B[43mleft_on\u001B[49m\u001B[38;5;241;43m=\u001B[39;49m\u001B[38;5;124;43m'\u001B[39;49m\u001B[38;5;124;43mparty_id\u001B[39;49m\u001B[38;5;124;43m'\u001B[39;49m\u001B[43m,\u001B[49m\u001B[43m \u001B[49m\u001B[43mright_on\u001B[49m\u001B[38;5;241;43m=\u001B[39;49m\u001B[38;5;124;43m'\u001B[39;49m\u001B[38;5;124;43mpartyID\u001B[39;49m\u001B[38;5;124;43m'\u001B[39;49m\u001B[43m,\u001B[49m\u001B[43m \u001B[49m\u001B[43mhow\u001B[49m\u001B[38;5;241;43m=\u001B[39;49m\u001B[38;5;124;43m'\u001B[39;49m\u001B[38;5;124;43mleft\u001B[39;49m\u001B[38;5;124;43m'\u001B[39;49m\u001B[43m)\u001B[49m\n",
      "File \u001B[1;32m~\\Miniconda3\\lib\\site-packages\\pandas\\core\\reshape\\merge.py:107\u001B[0m, in \u001B[0;36mmerge\u001B[1;34m(left, right, how, on, left_on, right_on, left_index, right_index, sort, suffixes, copy, indicator, validate)\u001B[0m\n\u001B[0;32m     90\u001B[0m \u001B[38;5;129m@Substitution\u001B[39m(\u001B[38;5;124m\"\u001B[39m\u001B[38;5;130;01m\\n\u001B[39;00m\u001B[38;5;124mleft : DataFrame or named Series\u001B[39m\u001B[38;5;124m\"\u001B[39m)\n\u001B[0;32m     91\u001B[0m \u001B[38;5;129m@Appender\u001B[39m(_merge_doc, indents\u001B[38;5;241m=\u001B[39m\u001B[38;5;241m0\u001B[39m)\n\u001B[0;32m     92\u001B[0m \u001B[38;5;28;01mdef\u001B[39;00m \u001B[38;5;21mmerge\u001B[39m(\n\u001B[1;32m   (...)\u001B[0m\n\u001B[0;32m    105\u001B[0m     validate: \u001B[38;5;28mstr\u001B[39m \u001B[38;5;241m|\u001B[39m \u001B[38;5;28;01mNone\u001B[39;00m \u001B[38;5;241m=\u001B[39m \u001B[38;5;28;01mNone\u001B[39;00m,\n\u001B[0;32m    106\u001B[0m ) \u001B[38;5;241m-\u001B[39m\u001B[38;5;241m>\u001B[39m DataFrame:\n\u001B[1;32m--> 107\u001B[0m     op \u001B[38;5;241m=\u001B[39m \u001B[43m_MergeOperation\u001B[49m\u001B[43m(\u001B[49m\n\u001B[0;32m    108\u001B[0m \u001B[43m        \u001B[49m\u001B[43mleft\u001B[49m\u001B[43m,\u001B[49m\n\u001B[0;32m    109\u001B[0m \u001B[43m        \u001B[49m\u001B[43mright\u001B[49m\u001B[43m,\u001B[49m\n\u001B[0;32m    110\u001B[0m \u001B[43m        \u001B[49m\u001B[43mhow\u001B[49m\u001B[38;5;241;43m=\u001B[39;49m\u001B[43mhow\u001B[49m\u001B[43m,\u001B[49m\n\u001B[0;32m    111\u001B[0m \u001B[43m        \u001B[49m\u001B[43mon\u001B[49m\u001B[38;5;241;43m=\u001B[39;49m\u001B[43mon\u001B[49m\u001B[43m,\u001B[49m\n\u001B[0;32m    112\u001B[0m \u001B[43m        \u001B[49m\u001B[43mleft_on\u001B[49m\u001B[38;5;241;43m=\u001B[39;49m\u001B[43mleft_on\u001B[49m\u001B[43m,\u001B[49m\n\u001B[0;32m    113\u001B[0m \u001B[43m        \u001B[49m\u001B[43mright_on\u001B[49m\u001B[38;5;241;43m=\u001B[39;49m\u001B[43mright_on\u001B[49m\u001B[43m,\u001B[49m\n\u001B[0;32m    114\u001B[0m \u001B[43m        \u001B[49m\u001B[43mleft_index\u001B[49m\u001B[38;5;241;43m=\u001B[39;49m\u001B[43mleft_index\u001B[49m\u001B[43m,\u001B[49m\n\u001B[0;32m    115\u001B[0m \u001B[43m        \u001B[49m\u001B[43mright_index\u001B[49m\u001B[38;5;241;43m=\u001B[39;49m\u001B[43mright_index\u001B[49m\u001B[43m,\u001B[49m\n\u001B[0;32m    116\u001B[0m \u001B[43m        \u001B[49m\u001B[43msort\u001B[49m\u001B[38;5;241;43m=\u001B[39;49m\u001B[43msort\u001B[49m\u001B[43m,\u001B[49m\n\u001B[0;32m    117\u001B[0m \u001B[43m        \u001B[49m\u001B[43msuffixes\u001B[49m\u001B[38;5;241;43m=\u001B[39;49m\u001B[43msuffixes\u001B[49m\u001B[43m,\u001B[49m\n\u001B[0;32m    118\u001B[0m \u001B[43m        \u001B[49m\u001B[43mcopy\u001B[49m\u001B[38;5;241;43m=\u001B[39;49m\u001B[43mcopy\u001B[49m\u001B[43m,\u001B[49m\n\u001B[0;32m    119\u001B[0m \u001B[43m        \u001B[49m\u001B[43mindicator\u001B[49m\u001B[38;5;241;43m=\u001B[39;49m\u001B[43mindicator\u001B[49m\u001B[43m,\u001B[49m\n\u001B[0;32m    120\u001B[0m \u001B[43m        \u001B[49m\u001B[43mvalidate\u001B[49m\u001B[38;5;241;43m=\u001B[39;49m\u001B[43mvalidate\u001B[49m\u001B[43m,\u001B[49m\n\u001B[0;32m    121\u001B[0m \u001B[43m    \u001B[49m\u001B[43m)\u001B[49m\n\u001B[0;32m    122\u001B[0m     \u001B[38;5;28;01mreturn\u001B[39;00m op\u001B[38;5;241m.\u001B[39mget_result()\n",
      "File \u001B[1;32m~\\Miniconda3\\lib\\site-packages\\pandas\\core\\reshape\\merge.py:700\u001B[0m, in \u001B[0;36m_MergeOperation.__init__\u001B[1;34m(self, left, right, how, on, left_on, right_on, axis, left_index, right_index, sort, suffixes, copy, indicator, validate)\u001B[0m\n\u001B[0;32m    693\u001B[0m \u001B[38;5;28mself\u001B[39m\u001B[38;5;241m.\u001B[39m_cross \u001B[38;5;241m=\u001B[39m cross_col\n\u001B[0;32m    695\u001B[0m \u001B[38;5;66;03m# note this function has side effects\u001B[39;00m\n\u001B[0;32m    696\u001B[0m (\n\u001B[0;32m    697\u001B[0m     \u001B[38;5;28mself\u001B[39m\u001B[38;5;241m.\u001B[39mleft_join_keys,\n\u001B[0;32m    698\u001B[0m     \u001B[38;5;28mself\u001B[39m\u001B[38;5;241m.\u001B[39mright_join_keys,\n\u001B[0;32m    699\u001B[0m     \u001B[38;5;28mself\u001B[39m\u001B[38;5;241m.\u001B[39mjoin_names,\n\u001B[1;32m--> 700\u001B[0m ) \u001B[38;5;241m=\u001B[39m \u001B[38;5;28;43mself\u001B[39;49m\u001B[38;5;241;43m.\u001B[39;49m\u001B[43m_get_merge_keys\u001B[49m\u001B[43m(\u001B[49m\u001B[43m)\u001B[49m\n\u001B[0;32m    702\u001B[0m \u001B[38;5;66;03m# validate the merge keys dtypes. We may need to coerce\u001B[39;00m\n\u001B[0;32m    703\u001B[0m \u001B[38;5;66;03m# to avoid incompatible dtypes\u001B[39;00m\n\u001B[0;32m    704\u001B[0m \u001B[38;5;28mself\u001B[39m\u001B[38;5;241m.\u001B[39m_maybe_coerce_merge_keys()\n",
      "File \u001B[1;32m~\\Miniconda3\\lib\\site-packages\\pandas\\core\\reshape\\merge.py:1097\u001B[0m, in \u001B[0;36m_MergeOperation._get_merge_keys\u001B[1;34m(self)\u001B[0m\n\u001B[0;32m   1095\u001B[0m \u001B[38;5;28;01mif\u001B[39;00m \u001B[38;5;129;01mnot\u001B[39;00m is_rkey(rk):\n\u001B[0;32m   1096\u001B[0m     \u001B[38;5;28;01mif\u001B[39;00m rk \u001B[38;5;129;01mis\u001B[39;00m \u001B[38;5;129;01mnot\u001B[39;00m \u001B[38;5;28;01mNone\u001B[39;00m:\n\u001B[1;32m-> 1097\u001B[0m         right_keys\u001B[38;5;241m.\u001B[39mappend(\u001B[43mright\u001B[49m\u001B[38;5;241;43m.\u001B[39;49m\u001B[43m_get_label_or_level_values\u001B[49m\u001B[43m(\u001B[49m\u001B[43mrk\u001B[49m\u001B[43m)\u001B[49m)\n\u001B[0;32m   1098\u001B[0m     \u001B[38;5;28;01melse\u001B[39;00m:\n\u001B[0;32m   1099\u001B[0m         \u001B[38;5;66;03m# work-around for merge_asof(right_index=True)\u001B[39;00m\n\u001B[0;32m   1100\u001B[0m         right_keys\u001B[38;5;241m.\u001B[39mappend(right\u001B[38;5;241m.\u001B[39mindex)\n",
      "File \u001B[1;32m~\\Miniconda3\\lib\\site-packages\\pandas\\core\\generic.py:1848\u001B[0m, in \u001B[0;36mNDFrame._get_label_or_level_values\u001B[1;34m(self, key, axis)\u001B[0m\n\u001B[0;32m   1846\u001B[0m     values \u001B[38;5;241m=\u001B[39m \u001B[38;5;28mself\u001B[39m\u001B[38;5;241m.\u001B[39maxes[axis]\u001B[38;5;241m.\u001B[39mget_level_values(key)\u001B[38;5;241m.\u001B[39m_values\n\u001B[0;32m   1847\u001B[0m \u001B[38;5;28;01melse\u001B[39;00m:\n\u001B[1;32m-> 1848\u001B[0m     \u001B[38;5;28;01mraise\u001B[39;00m \u001B[38;5;167;01mKeyError\u001B[39;00m(key)\n\u001B[0;32m   1850\u001B[0m \u001B[38;5;66;03m# Check for duplicates\u001B[39;00m\n\u001B[0;32m   1851\u001B[0m \u001B[38;5;28;01mif\u001B[39;00m values\u001B[38;5;241m.\u001B[39mndim \u001B[38;5;241m>\u001B[39m \u001B[38;5;241m1\u001B[39m:\n",
      "\u001B[1;31mKeyError\u001B[0m: 'partyID'"
     ]
    }
   ],
   "source": [
    "data_national = pd.merge(data_national, party_names, left_on='party_id', right_on='partyID', how='left')"
   ],
   "metadata": {
    "collapsed": false,
    "ExecuteTime": {
     "end_time": "2024-04-01T20:08:56.172260Z",
     "start_time": "2024-04-01T20:08:54.971072Z"
    }
   },
   "execution_count": 92
  },
  {
   "cell_type": "code",
   "outputs": [
    {
     "data": {
      "text/plain": "   country  eastwest  eumember  year  expert  party_id   cmp_id    party  \\\n0        1         1         1  1999       9       115      NaN       FN   \n1        1         1         1  1999       9       109  21521.0      CVP   \n2        1         1         1  1999       9       107  21421.0  PVV/VLD   \n3        1         1         1  1999       9       106  21422.0      PRL   \n4        1         1         1  1999       9       110  21913.0       VU   \n\n   vote  seat  ...  antielite_salience  corrupt_salience  \\\n0   1.5   0.7  ...                 NaN               NaN   \n1  14.1  14.7  ...                 NaN               NaN   \n2  14.3  15.3  ...                 NaN               NaN   \n3   7.7   9.0  ...                 NaN               NaN   \n4   5.6   5.3  ...                 NaN               NaN   \n\n   members_vs_leadership  mip_one  mip_two  mip_three  chesversion  ID  \\\n0                    NaN      NaN      NaN        NaN       2020.1   1   \n1                    NaN      NaN      NaN        NaN       2020.1   1   \n2                    NaN      NaN      NaN        NaN       2020.1   1   \n3                    NaN      NaN      NaN        NaN       2020.1   1   \n4                    NaN      NaN      NaN        NaN       2020.1   1   \n\n   Abbreviation  Country  \n0            BE  Belgium  \n1            BE  Belgium  \n2            BE  Belgium  \n3            BE  Belgium  \n4            BE  Belgium  \n\n[5 rows x 87 columns]",
      "text/html": "<div>\n<style scoped>\n    .dataframe tbody tr th:only-of-type {\n        vertical-align: middle;\n    }\n\n    .dataframe tbody tr th {\n        vertical-align: top;\n    }\n\n    .dataframe thead th {\n        text-align: right;\n    }\n</style>\n<table border=\"1\" class=\"dataframe\">\n  <thead>\n    <tr style=\"text-align: right;\">\n      <th></th>\n      <th>country</th>\n      <th>eastwest</th>\n      <th>eumember</th>\n      <th>year</th>\n      <th>expert</th>\n      <th>party_id</th>\n      <th>cmp_id</th>\n      <th>party</th>\n      <th>vote</th>\n      <th>seat</th>\n      <th>...</th>\n      <th>antielite_salience</th>\n      <th>corrupt_salience</th>\n      <th>members_vs_leadership</th>\n      <th>mip_one</th>\n      <th>mip_two</th>\n      <th>mip_three</th>\n      <th>chesversion</th>\n      <th>ID</th>\n      <th>Abbreviation</th>\n      <th>Country</th>\n    </tr>\n  </thead>\n  <tbody>\n    <tr>\n      <th>0</th>\n      <td>1</td>\n      <td>1</td>\n      <td>1</td>\n      <td>1999</td>\n      <td>9</td>\n      <td>115</td>\n      <td>NaN</td>\n      <td>FN</td>\n      <td>1.5</td>\n      <td>0.7</td>\n      <td>...</td>\n      <td>NaN</td>\n      <td>NaN</td>\n      <td>NaN</td>\n      <td>NaN</td>\n      <td>NaN</td>\n      <td>NaN</td>\n      <td>2020.1</td>\n      <td>1</td>\n      <td>BE</td>\n      <td>Belgium</td>\n    </tr>\n    <tr>\n      <th>1</th>\n      <td>1</td>\n      <td>1</td>\n      <td>1</td>\n      <td>1999</td>\n      <td>9</td>\n      <td>109</td>\n      <td>21521.0</td>\n      <td>CVP</td>\n      <td>14.1</td>\n      <td>14.7</td>\n      <td>...</td>\n      <td>NaN</td>\n      <td>NaN</td>\n      <td>NaN</td>\n      <td>NaN</td>\n      <td>NaN</td>\n      <td>NaN</td>\n      <td>2020.1</td>\n      <td>1</td>\n      <td>BE</td>\n      <td>Belgium</td>\n    </tr>\n    <tr>\n      <th>2</th>\n      <td>1</td>\n      <td>1</td>\n      <td>1</td>\n      <td>1999</td>\n      <td>9</td>\n      <td>107</td>\n      <td>21421.0</td>\n      <td>PVV/VLD</td>\n      <td>14.3</td>\n      <td>15.3</td>\n      <td>...</td>\n      <td>NaN</td>\n      <td>NaN</td>\n      <td>NaN</td>\n      <td>NaN</td>\n      <td>NaN</td>\n      <td>NaN</td>\n      <td>2020.1</td>\n      <td>1</td>\n      <td>BE</td>\n      <td>Belgium</td>\n    </tr>\n    <tr>\n      <th>3</th>\n      <td>1</td>\n      <td>1</td>\n      <td>1</td>\n      <td>1999</td>\n      <td>9</td>\n      <td>106</td>\n      <td>21422.0</td>\n      <td>PRL</td>\n      <td>7.7</td>\n      <td>9.0</td>\n      <td>...</td>\n      <td>NaN</td>\n      <td>NaN</td>\n      <td>NaN</td>\n      <td>NaN</td>\n      <td>NaN</td>\n      <td>NaN</td>\n      <td>2020.1</td>\n      <td>1</td>\n      <td>BE</td>\n      <td>Belgium</td>\n    </tr>\n    <tr>\n      <th>4</th>\n      <td>1</td>\n      <td>1</td>\n      <td>1</td>\n      <td>1999</td>\n      <td>9</td>\n      <td>110</td>\n      <td>21913.0</td>\n      <td>VU</td>\n      <td>5.6</td>\n      <td>5.3</td>\n      <td>...</td>\n      <td>NaN</td>\n      <td>NaN</td>\n      <td>NaN</td>\n      <td>NaN</td>\n      <td>NaN</td>\n      <td>NaN</td>\n      <td>2020.1</td>\n      <td>1</td>\n      <td>BE</td>\n      <td>Belgium</td>\n    </tr>\n  </tbody>\n</table>\n<p>5 rows × 87 columns</p>\n</div>"
     },
     "execution_count": 94,
     "metadata": {},
     "output_type": "execute_result"
    }
   ],
   "source": [
    "data_national.head()"
   ],
   "metadata": {
    "collapsed": false,
    "ExecuteTime": {
     "end_time": "2024-04-01T20:09:28.670964Z",
     "start_time": "2024-04-01T20:09:28.641450Z"
    }
   },
   "execution_count": 94
  },
  {
   "cell_type": "code",
   "outputs": [
    {
     "ename": "KeyError",
     "evalue": "'partyName'",
     "output_type": "error",
     "traceback": [
      "\u001B[1;31m---------------------------------------------------------------------------\u001B[0m",
      "\u001B[1;31mKeyError\u001B[0m                                  Traceback (most recent call last)",
      "Cell \u001B[1;32mIn[93], line 1\u001B[0m\n\u001B[1;32m----> 1\u001B[0m test_data \u001B[38;5;241m=\u001B[39m \u001B[43mpd\u001B[49m\u001B[38;5;241;43m.\u001B[39;49m\u001B[43mmerge\u001B[49m\u001B[43m(\u001B[49m\u001B[43mdata_national\u001B[49m\u001B[43m,\u001B[49m\u001B[43m \u001B[49m\u001B[43mdata_european\u001B[49m\u001B[43m,\u001B[49m\u001B[43m \u001B[49m\u001B[43mleft_on\u001B[49m\u001B[38;5;241;43m=\u001B[39;49m\u001B[43m[\u001B[49m\u001B[38;5;124;43m\"\u001B[39;49m\u001B[38;5;124;43mCountry\u001B[39;49m\u001B[38;5;124;43m\"\u001B[39;49m\u001B[43m,\u001B[49m\u001B[43m \u001B[49m\u001B[38;5;124;43m'\u001B[39;49m\u001B[38;5;124;43mpartyName\u001B[39;49m\u001B[38;5;124;43m'\u001B[39;49m\u001B[43m]\u001B[49m\u001B[43m,\u001B[49m\u001B[43m \u001B[49m\u001B[43mright_on\u001B[49m\u001B[38;5;241;43m=\u001B[39;49m\u001B[43m[\u001B[49m\u001B[38;5;124;43m\"\u001B[39;49m\u001B[38;5;124;43mcName\u001B[39;49m\u001B[38;5;124;43m\"\u001B[39;49m\u001B[43m,\u001B[49m\u001B[43m \u001B[49m\u001B[38;5;124;43m'\u001B[39;49m\u001B[38;5;124;43mpName\u001B[39;49m\u001B[38;5;124;43m'\u001B[39;49m\u001B[43m]\u001B[49m\u001B[43m,\u001B[49m\u001B[43m \u001B[49m\u001B[43mhow\u001B[49m\u001B[38;5;241;43m=\u001B[39;49m\u001B[38;5;124;43m'\u001B[39;49m\u001B[38;5;124;43mouter\u001B[39;49m\u001B[38;5;124;43m'\u001B[39;49m\u001B[43m,\u001B[49m\u001B[43m \u001B[49m\u001B[43mindicator\u001B[49m\u001B[38;5;241;43m=\u001B[39;49m\u001B[38;5;28;43;01mTrue\u001B[39;49;00m\u001B[43m)\u001B[49m\n",
      "File \u001B[1;32m~\\Miniconda3\\lib\\site-packages\\pandas\\core\\reshape\\merge.py:107\u001B[0m, in \u001B[0;36mmerge\u001B[1;34m(left, right, how, on, left_on, right_on, left_index, right_index, sort, suffixes, copy, indicator, validate)\u001B[0m\n\u001B[0;32m     90\u001B[0m \u001B[38;5;129m@Substitution\u001B[39m(\u001B[38;5;124m\"\u001B[39m\u001B[38;5;130;01m\\n\u001B[39;00m\u001B[38;5;124mleft : DataFrame or named Series\u001B[39m\u001B[38;5;124m\"\u001B[39m)\n\u001B[0;32m     91\u001B[0m \u001B[38;5;129m@Appender\u001B[39m(_merge_doc, indents\u001B[38;5;241m=\u001B[39m\u001B[38;5;241m0\u001B[39m)\n\u001B[0;32m     92\u001B[0m \u001B[38;5;28;01mdef\u001B[39;00m \u001B[38;5;21mmerge\u001B[39m(\n\u001B[1;32m   (...)\u001B[0m\n\u001B[0;32m    105\u001B[0m     validate: \u001B[38;5;28mstr\u001B[39m \u001B[38;5;241m|\u001B[39m \u001B[38;5;28;01mNone\u001B[39;00m \u001B[38;5;241m=\u001B[39m \u001B[38;5;28;01mNone\u001B[39;00m,\n\u001B[0;32m    106\u001B[0m ) \u001B[38;5;241m-\u001B[39m\u001B[38;5;241m>\u001B[39m DataFrame:\n\u001B[1;32m--> 107\u001B[0m     op \u001B[38;5;241m=\u001B[39m \u001B[43m_MergeOperation\u001B[49m\u001B[43m(\u001B[49m\n\u001B[0;32m    108\u001B[0m \u001B[43m        \u001B[49m\u001B[43mleft\u001B[49m\u001B[43m,\u001B[49m\n\u001B[0;32m    109\u001B[0m \u001B[43m        \u001B[49m\u001B[43mright\u001B[49m\u001B[43m,\u001B[49m\n\u001B[0;32m    110\u001B[0m \u001B[43m        \u001B[49m\u001B[43mhow\u001B[49m\u001B[38;5;241;43m=\u001B[39;49m\u001B[43mhow\u001B[49m\u001B[43m,\u001B[49m\n\u001B[0;32m    111\u001B[0m \u001B[43m        \u001B[49m\u001B[43mon\u001B[49m\u001B[38;5;241;43m=\u001B[39;49m\u001B[43mon\u001B[49m\u001B[43m,\u001B[49m\n\u001B[0;32m    112\u001B[0m \u001B[43m        \u001B[49m\u001B[43mleft_on\u001B[49m\u001B[38;5;241;43m=\u001B[39;49m\u001B[43mleft_on\u001B[49m\u001B[43m,\u001B[49m\n\u001B[0;32m    113\u001B[0m \u001B[43m        \u001B[49m\u001B[43mright_on\u001B[49m\u001B[38;5;241;43m=\u001B[39;49m\u001B[43mright_on\u001B[49m\u001B[43m,\u001B[49m\n\u001B[0;32m    114\u001B[0m \u001B[43m        \u001B[49m\u001B[43mleft_index\u001B[49m\u001B[38;5;241;43m=\u001B[39;49m\u001B[43mleft_index\u001B[49m\u001B[43m,\u001B[49m\n\u001B[0;32m    115\u001B[0m \u001B[43m        \u001B[49m\u001B[43mright_index\u001B[49m\u001B[38;5;241;43m=\u001B[39;49m\u001B[43mright_index\u001B[49m\u001B[43m,\u001B[49m\n\u001B[0;32m    116\u001B[0m \u001B[43m        \u001B[49m\u001B[43msort\u001B[49m\u001B[38;5;241;43m=\u001B[39;49m\u001B[43msort\u001B[49m\u001B[43m,\u001B[49m\n\u001B[0;32m    117\u001B[0m \u001B[43m        \u001B[49m\u001B[43msuffixes\u001B[49m\u001B[38;5;241;43m=\u001B[39;49m\u001B[43msuffixes\u001B[49m\u001B[43m,\u001B[49m\n\u001B[0;32m    118\u001B[0m \u001B[43m        \u001B[49m\u001B[43mcopy\u001B[49m\u001B[38;5;241;43m=\u001B[39;49m\u001B[43mcopy\u001B[49m\u001B[43m,\u001B[49m\n\u001B[0;32m    119\u001B[0m \u001B[43m        \u001B[49m\u001B[43mindicator\u001B[49m\u001B[38;5;241;43m=\u001B[39;49m\u001B[43mindicator\u001B[49m\u001B[43m,\u001B[49m\n\u001B[0;32m    120\u001B[0m \u001B[43m        \u001B[49m\u001B[43mvalidate\u001B[49m\u001B[38;5;241;43m=\u001B[39;49m\u001B[43mvalidate\u001B[49m\u001B[43m,\u001B[49m\n\u001B[0;32m    121\u001B[0m \u001B[43m    \u001B[49m\u001B[43m)\u001B[49m\n\u001B[0;32m    122\u001B[0m     \u001B[38;5;28;01mreturn\u001B[39;00m op\u001B[38;5;241m.\u001B[39mget_result()\n",
      "File \u001B[1;32m~\\Miniconda3\\lib\\site-packages\\pandas\\core\\reshape\\merge.py:700\u001B[0m, in \u001B[0;36m_MergeOperation.__init__\u001B[1;34m(self, left, right, how, on, left_on, right_on, axis, left_index, right_index, sort, suffixes, copy, indicator, validate)\u001B[0m\n\u001B[0;32m    693\u001B[0m \u001B[38;5;28mself\u001B[39m\u001B[38;5;241m.\u001B[39m_cross \u001B[38;5;241m=\u001B[39m cross_col\n\u001B[0;32m    695\u001B[0m \u001B[38;5;66;03m# note this function has side effects\u001B[39;00m\n\u001B[0;32m    696\u001B[0m (\n\u001B[0;32m    697\u001B[0m     \u001B[38;5;28mself\u001B[39m\u001B[38;5;241m.\u001B[39mleft_join_keys,\n\u001B[0;32m    698\u001B[0m     \u001B[38;5;28mself\u001B[39m\u001B[38;5;241m.\u001B[39mright_join_keys,\n\u001B[0;32m    699\u001B[0m     \u001B[38;5;28mself\u001B[39m\u001B[38;5;241m.\u001B[39mjoin_names,\n\u001B[1;32m--> 700\u001B[0m ) \u001B[38;5;241m=\u001B[39m \u001B[38;5;28;43mself\u001B[39;49m\u001B[38;5;241;43m.\u001B[39;49m\u001B[43m_get_merge_keys\u001B[49m\u001B[43m(\u001B[49m\u001B[43m)\u001B[49m\n\u001B[0;32m    702\u001B[0m \u001B[38;5;66;03m# validate the merge keys dtypes. We may need to coerce\u001B[39;00m\n\u001B[0;32m    703\u001B[0m \u001B[38;5;66;03m# to avoid incompatible dtypes\u001B[39;00m\n\u001B[0;32m    704\u001B[0m \u001B[38;5;28mself\u001B[39m\u001B[38;5;241m.\u001B[39m_maybe_coerce_merge_keys()\n",
      "File \u001B[1;32m~\\Miniconda3\\lib\\site-packages\\pandas\\core\\reshape\\merge.py:1110\u001B[0m, in \u001B[0;36m_MergeOperation._get_merge_keys\u001B[1;34m(self)\u001B[0m\n\u001B[0;32m   1108\u001B[0m     right_keys\u001B[38;5;241m.\u001B[39mappend(rk)\n\u001B[0;32m   1109\u001B[0m \u001B[38;5;28;01mif\u001B[39;00m lk \u001B[38;5;129;01mis\u001B[39;00m \u001B[38;5;129;01mnot\u001B[39;00m \u001B[38;5;28;01mNone\u001B[39;00m:\n\u001B[1;32m-> 1110\u001B[0m     left_keys\u001B[38;5;241m.\u001B[39mappend(\u001B[43mleft\u001B[49m\u001B[38;5;241;43m.\u001B[39;49m\u001B[43m_get_label_or_level_values\u001B[49m\u001B[43m(\u001B[49m\u001B[43mlk\u001B[49m\u001B[43m)\u001B[49m)\n\u001B[0;32m   1111\u001B[0m     join_names\u001B[38;5;241m.\u001B[39mappend(lk)\n\u001B[0;32m   1112\u001B[0m \u001B[38;5;28;01melse\u001B[39;00m:\n\u001B[0;32m   1113\u001B[0m     \u001B[38;5;66;03m# work-around for merge_asof(left_index=True)\u001B[39;00m\n",
      "File \u001B[1;32m~\\Miniconda3\\lib\\site-packages\\pandas\\core\\generic.py:1848\u001B[0m, in \u001B[0;36mNDFrame._get_label_or_level_values\u001B[1;34m(self, key, axis)\u001B[0m\n\u001B[0;32m   1846\u001B[0m     values \u001B[38;5;241m=\u001B[39m \u001B[38;5;28mself\u001B[39m\u001B[38;5;241m.\u001B[39maxes[axis]\u001B[38;5;241m.\u001B[39mget_level_values(key)\u001B[38;5;241m.\u001B[39m_values\n\u001B[0;32m   1847\u001B[0m \u001B[38;5;28;01melse\u001B[39;00m:\n\u001B[1;32m-> 1848\u001B[0m     \u001B[38;5;28;01mraise\u001B[39;00m \u001B[38;5;167;01mKeyError\u001B[39;00m(key)\n\u001B[0;32m   1850\u001B[0m \u001B[38;5;66;03m# Check for duplicates\u001B[39;00m\n\u001B[0;32m   1851\u001B[0m \u001B[38;5;28;01mif\u001B[39;00m values\u001B[38;5;241m.\u001B[39mndim \u001B[38;5;241m>\u001B[39m \u001B[38;5;241m1\u001B[39m:\n",
      "\u001B[1;31mKeyError\u001B[0m: 'partyName'"
     ]
    }
   ],
   "source": [
    "test_data = pd.merge(data_national, data_european, left_on=[\"Country\", 'partyName'], right_on=[\"cName\", 'pName'], how='outer', indicator=True)"
   ],
   "metadata": {
    "collapsed": false,
    "ExecuteTime": {
     "end_time": "2024-04-01T20:08:58.472081Z",
     "start_time": "2024-04-01T20:08:58.379567Z"
    }
   },
   "execution_count": 93
  },
  {
   "cell_type": "code",
   "outputs": [],
   "source": [
    "T1 = test_data[test_data['_merge'] == \"left_only\"]\n",
    "T2 = test_data[test_data['_merge'] == \"right_only\"]\n",
    "T3 = test_data[test_data['_merge'] == \"both\"]"
   ],
   "metadata": {
    "collapsed": false,
    "ExecuteTime": {
     "end_time": "2024-04-01T19:16:34.257818Z",
     "start_time": "2024-04-01T19:16:34.243782Z"
    }
   },
   "execution_count": 8
  },
  {
   "cell_type": "code",
   "outputs": [],
   "source": [
    "year_corr = {1999: 1999, \n",
    " 2004: 2002,\n",
    " 2009: 2006,\n",
    " 2014: 2014}"
   ],
   "metadata": {
    "collapsed": false,
    "ExecuteTime": {
     "end_time": "2024-04-01T19:30:53.717509Z",
     "start_time": "2024-04-01T19:30:53.706984Z"
    }
   },
   "execution_count": 42
  },
  {
   "cell_type": "code",
   "outputs": [],
   "source": [
    "data_european[\"alt_partyName\"] = [difflib.get_close_matches(data_european.loc[idx, \"pName\"], data_national[(data_european.loc[idx, \"cName\"] == data_national[\"Country\"]) & (year_corr[data_european.loc[idx, \"ElYear\"]] == data_national[\"year\"])][\"partyName\"].astype(str), n=1, cutoff=0.8) for idx in range(len(data_european))]"
   ],
   "metadata": {
    "collapsed": false,
    "ExecuteTime": {
     "end_time": "2024-04-01T19:53:17.748939Z",
     "start_time": "2024-04-01T19:53:16.278427Z"
    }
   },
   "execution_count": 83
  },
  {
   "cell_type": "code",
   "outputs": [],
   "source": [
    "\n",
    "data_european[\"alt_PNCert\"] = [difflib.SequenceMatcher(None, data_european.loc[idx,\"pName\"], data_european.loc[idx, \"alt_partyName\"][0]).ratio() if len(data_european.loc[idx, \"alt_partyName\"]) > 0 else 0 for idx in range(len(data_european))]"
   ],
   "metadata": {
    "collapsed": false,
    "ExecuteTime": {
     "end_time": "2024-04-01T19:53:20.622518Z",
     "start_time": "2024-04-01T19:53:20.543877Z"
    }
   },
   "execution_count": 84
  },
  {
   "cell_type": "code",
   "outputs": [
    {
     "data": {
      "text/plain": "        cName  ElYear                                   pName  \\\n0     Austria    1999        Freiheitliche Partei Österreichs   \n1     Austria    1999                         Liberales Forum   \n2     Austria    1999  Sozialdemokratische Partei Österreichs   \n3     Austria    1999             Österreichische Volkspartei   \n4     Austria    1999      Die Grünen – Die Grüne Alternative   \n...       ...     ...                                     ...   \n1769   Sweden    2014                      Socialdemokraterna   \n1770   Sweden    2014                   Miljöpartiet de Gröna   \n1771   Sweden    2014                           Centerpartiet   \n1772   Sweden    2014                  Feministiskt initiativ   \n1773   Sweden    2014                     Sverigedemokraterna   \n\n                                 alt_partyName  alt_PNCert  \n0           [Freiheitliche Partei Österreichs]    1.000000  \n1                            [Liberales Forum]    1.000000  \n2     [Sozialdemokratische Partei Österreichs]    1.000000  \n3                [Österreichische Volkspartei]    1.000000  \n4                                           []    0.000000  \n...                                        ...         ...  \n1769                                        []    0.000000  \n1770                  [Miljöepartiet de Gröna]    0.976744  \n1771                           [Centerpartiet]    1.000000  \n1772                  [Feministiskt initiativ]    1.000000  \n1773                     [Sverigedemokraterna]    1.000000  \n\n[1774 rows x 5 columns]",
      "text/html": "<div>\n<style scoped>\n    .dataframe tbody tr th:only-of-type {\n        vertical-align: middle;\n    }\n\n    .dataframe tbody tr th {\n        vertical-align: top;\n    }\n\n    .dataframe thead th {\n        text-align: right;\n    }\n</style>\n<table border=\"1\" class=\"dataframe\">\n  <thead>\n    <tr style=\"text-align: right;\">\n      <th></th>\n      <th>cName</th>\n      <th>ElYear</th>\n      <th>pName</th>\n      <th>alt_partyName</th>\n      <th>alt_PNCert</th>\n    </tr>\n  </thead>\n  <tbody>\n    <tr>\n      <th>0</th>\n      <td>Austria</td>\n      <td>1999</td>\n      <td>Freiheitliche Partei Österreichs</td>\n      <td>[Freiheitliche Partei Österreichs]</td>\n      <td>1.000000</td>\n    </tr>\n    <tr>\n      <th>1</th>\n      <td>Austria</td>\n      <td>1999</td>\n      <td>Liberales Forum</td>\n      <td>[Liberales Forum]</td>\n      <td>1.000000</td>\n    </tr>\n    <tr>\n      <th>2</th>\n      <td>Austria</td>\n      <td>1999</td>\n      <td>Sozialdemokratische Partei Österreichs</td>\n      <td>[Sozialdemokratische Partei Österreichs]</td>\n      <td>1.000000</td>\n    </tr>\n    <tr>\n      <th>3</th>\n      <td>Austria</td>\n      <td>1999</td>\n      <td>Österreichische Volkspartei</td>\n      <td>[Österreichische Volkspartei]</td>\n      <td>1.000000</td>\n    </tr>\n    <tr>\n      <th>4</th>\n      <td>Austria</td>\n      <td>1999</td>\n      <td>Die Grünen – Die Grüne Alternative</td>\n      <td>[]</td>\n      <td>0.000000</td>\n    </tr>\n    <tr>\n      <th>...</th>\n      <td>...</td>\n      <td>...</td>\n      <td>...</td>\n      <td>...</td>\n      <td>...</td>\n    </tr>\n    <tr>\n      <th>1769</th>\n      <td>Sweden</td>\n      <td>2014</td>\n      <td>Socialdemokraterna</td>\n      <td>[]</td>\n      <td>0.000000</td>\n    </tr>\n    <tr>\n      <th>1770</th>\n      <td>Sweden</td>\n      <td>2014</td>\n      <td>Miljöpartiet de Gröna</td>\n      <td>[Miljöepartiet de Gröna]</td>\n      <td>0.976744</td>\n    </tr>\n    <tr>\n      <th>1771</th>\n      <td>Sweden</td>\n      <td>2014</td>\n      <td>Centerpartiet</td>\n      <td>[Centerpartiet]</td>\n      <td>1.000000</td>\n    </tr>\n    <tr>\n      <th>1772</th>\n      <td>Sweden</td>\n      <td>2014</td>\n      <td>Feministiskt initiativ</td>\n      <td>[Feministiskt initiativ]</td>\n      <td>1.000000</td>\n    </tr>\n    <tr>\n      <th>1773</th>\n      <td>Sweden</td>\n      <td>2014</td>\n      <td>Sverigedemokraterna</td>\n      <td>[Sverigedemokraterna]</td>\n      <td>1.000000</td>\n    </tr>\n  </tbody>\n</table>\n<p>1774 rows × 5 columns</p>\n</div>"
     },
     "execution_count": 85,
     "metadata": {},
     "output_type": "execute_result"
    }
   ],
   "source": [
    "data_european[[\"cName\",\"ElYear\", \"pName\", \"alt_partyName\", \"alt_PNCert\"]]"
   ],
   "metadata": {
    "collapsed": false,
    "ExecuteTime": {
     "end_time": "2024-04-01T19:53:22.353101Z",
     "start_time": "2024-04-01T19:53:22.327072Z"
    }
   },
   "execution_count": 85
  },
  {
   "cell_type": "code",
   "outputs": [
    {
     "data": {
      "text/plain": "     country  eastwest  eumember  year  expert  party_id   cmp_id   party  \\\n749       11         1         1  2014       7      1107      NaN   GREEN   \n752       11         1         1  2014       7      1106  51901.0   PLAID   \n755       11         1         1  2014       7      1108  51951.0    UKIP   \n758       11         1         1  2014       7      1105  51902.0     SNP   \n761       11         1         1  2014       7      1102  51320.0     LAB   \n764       11         1         1  2014       7      1104  51421.0  LibDem   \n767       11         1         1  2014       7      1101  51620.0    CONS   \n\n     vote       seat  ...  mip_three  chesversion  ID  Abbreviation  \\\n749   1.0   0.200000  ...        2.0       2020.1  11            UK   \n752   0.6   0.500000  ...       17.0       2020.1  11            UK   \n755   3.1   0.000000  ...        1.0       2020.1  11            UK   \n758   1.7   0.900000  ...       13.0       2020.1  11            UK   \n761  29.0  39.700001  ...        9.0       2020.1  11            UK   \n764  23.0   8.800000  ...       27.0       2020.1  11            UK   \n767  36.1  47.200001  ...        5.0       2020.1  11            UK   \n\n           Country  CountryAbrev  partyID  partyAbrev  \\\n749  Great Britain            UK   1107.0       Green   \n752  Great Britain            UK   1106.0       Plaid   \n755  Great Britain            UK   1108.0        UKIP   \n758  Great Britain            UK   1105.0         SNP   \n761  Great Britain            UK   1102.0         Lab   \n764  Great Britain            UK   1104.0      LibDem   \n767  Great Britain            UK   1101.0        Cons   \n\n                             partyName                       partyNameEng  \n749                        Green Party                        Green Party  \n752                        Plaid Cymru                     Party of Wales  \n755  United Kingdom Independence Party  United Kingdom Independence Party  \n758            Scottish National Party            Scottish National Party  \n761                       Labour Party                       Labour Party  \n764           Liberal Democratic Party           Liberal Democratic Party  \n767                 Conservative Party                 Conservative Party  \n\n[7 rows x 92 columns]",
      "text/html": "<div>\n<style scoped>\n    .dataframe tbody tr th:only-of-type {\n        vertical-align: middle;\n    }\n\n    .dataframe tbody tr th {\n        vertical-align: top;\n    }\n\n    .dataframe thead th {\n        text-align: right;\n    }\n</style>\n<table border=\"1\" class=\"dataframe\">\n  <thead>\n    <tr style=\"text-align: right;\">\n      <th></th>\n      <th>country</th>\n      <th>eastwest</th>\n      <th>eumember</th>\n      <th>year</th>\n      <th>expert</th>\n      <th>party_id</th>\n      <th>cmp_id</th>\n      <th>party</th>\n      <th>vote</th>\n      <th>seat</th>\n      <th>...</th>\n      <th>mip_three</th>\n      <th>chesversion</th>\n      <th>ID</th>\n      <th>Abbreviation</th>\n      <th>Country</th>\n      <th>CountryAbrev</th>\n      <th>partyID</th>\n      <th>partyAbrev</th>\n      <th>partyName</th>\n      <th>partyNameEng</th>\n    </tr>\n  </thead>\n  <tbody>\n    <tr>\n      <th>749</th>\n      <td>11</td>\n      <td>1</td>\n      <td>1</td>\n      <td>2014</td>\n      <td>7</td>\n      <td>1107</td>\n      <td>NaN</td>\n      <td>GREEN</td>\n      <td>1.0</td>\n      <td>0.200000</td>\n      <td>...</td>\n      <td>2.0</td>\n      <td>2020.1</td>\n      <td>11</td>\n      <td>UK</td>\n      <td>Great Britain</td>\n      <td>UK</td>\n      <td>1107.0</td>\n      <td>Green</td>\n      <td>Green Party</td>\n      <td>Green Party</td>\n    </tr>\n    <tr>\n      <th>752</th>\n      <td>11</td>\n      <td>1</td>\n      <td>1</td>\n      <td>2014</td>\n      <td>7</td>\n      <td>1106</td>\n      <td>51901.0</td>\n      <td>PLAID</td>\n      <td>0.6</td>\n      <td>0.500000</td>\n      <td>...</td>\n      <td>17.0</td>\n      <td>2020.1</td>\n      <td>11</td>\n      <td>UK</td>\n      <td>Great Britain</td>\n      <td>UK</td>\n      <td>1106.0</td>\n      <td>Plaid</td>\n      <td>Plaid Cymru</td>\n      <td>Party of Wales</td>\n    </tr>\n    <tr>\n      <th>755</th>\n      <td>11</td>\n      <td>1</td>\n      <td>1</td>\n      <td>2014</td>\n      <td>7</td>\n      <td>1108</td>\n      <td>51951.0</td>\n      <td>UKIP</td>\n      <td>3.1</td>\n      <td>0.000000</td>\n      <td>...</td>\n      <td>1.0</td>\n      <td>2020.1</td>\n      <td>11</td>\n      <td>UK</td>\n      <td>Great Britain</td>\n      <td>UK</td>\n      <td>1108.0</td>\n      <td>UKIP</td>\n      <td>United Kingdom Independence Party</td>\n      <td>United Kingdom Independence Party</td>\n    </tr>\n    <tr>\n      <th>758</th>\n      <td>11</td>\n      <td>1</td>\n      <td>1</td>\n      <td>2014</td>\n      <td>7</td>\n      <td>1105</td>\n      <td>51902.0</td>\n      <td>SNP</td>\n      <td>1.7</td>\n      <td>0.900000</td>\n      <td>...</td>\n      <td>13.0</td>\n      <td>2020.1</td>\n      <td>11</td>\n      <td>UK</td>\n      <td>Great Britain</td>\n      <td>UK</td>\n      <td>1105.0</td>\n      <td>SNP</td>\n      <td>Scottish National Party</td>\n      <td>Scottish National Party</td>\n    </tr>\n    <tr>\n      <th>761</th>\n      <td>11</td>\n      <td>1</td>\n      <td>1</td>\n      <td>2014</td>\n      <td>7</td>\n      <td>1102</td>\n      <td>51320.0</td>\n      <td>LAB</td>\n      <td>29.0</td>\n      <td>39.700001</td>\n      <td>...</td>\n      <td>9.0</td>\n      <td>2020.1</td>\n      <td>11</td>\n      <td>UK</td>\n      <td>Great Britain</td>\n      <td>UK</td>\n      <td>1102.0</td>\n      <td>Lab</td>\n      <td>Labour Party</td>\n      <td>Labour Party</td>\n    </tr>\n    <tr>\n      <th>764</th>\n      <td>11</td>\n      <td>1</td>\n      <td>1</td>\n      <td>2014</td>\n      <td>7</td>\n      <td>1104</td>\n      <td>51421.0</td>\n      <td>LibDem</td>\n      <td>23.0</td>\n      <td>8.800000</td>\n      <td>...</td>\n      <td>27.0</td>\n      <td>2020.1</td>\n      <td>11</td>\n      <td>UK</td>\n      <td>Great Britain</td>\n      <td>UK</td>\n      <td>1104.0</td>\n      <td>LibDem</td>\n      <td>Liberal Democratic Party</td>\n      <td>Liberal Democratic Party</td>\n    </tr>\n    <tr>\n      <th>767</th>\n      <td>11</td>\n      <td>1</td>\n      <td>1</td>\n      <td>2014</td>\n      <td>7</td>\n      <td>1101</td>\n      <td>51620.0</td>\n      <td>CONS</td>\n      <td>36.1</td>\n      <td>47.200001</td>\n      <td>...</td>\n      <td>5.0</td>\n      <td>2020.1</td>\n      <td>11</td>\n      <td>UK</td>\n      <td>Great Britain</td>\n      <td>UK</td>\n      <td>1101.0</td>\n      <td>Cons</td>\n      <td>Conservative Party</td>\n      <td>Conservative Party</td>\n    </tr>\n  </tbody>\n</table>\n<p>7 rows × 92 columns</p>\n</div>"
     },
     "execution_count": 87,
     "metadata": {},
     "output_type": "execute_result"
    }
   ],
   "source": [
    "data_national[(data_national[\"Country\"] == \"Great Britain\") & (data_national[\"year\"] == 2014)]"
   ],
   "metadata": {
    "collapsed": false,
    "ExecuteTime": {
     "end_time": "2024-04-01T20:01:16.281455Z",
     "start_time": "2024-04-01T20:01:16.256400Z"
    }
   },
   "execution_count": 87
  },
  {
   "cell_type": "code",
   "outputs": [],
   "source": [
    "data_european[[\"Country\", \"partyName\", \"alt_partyName\"]]"
   ],
   "metadata": {
    "collapsed": false,
    "ExecuteTime": {
     "start_time": "2024-04-01T19:16:36.493712Z"
    }
   },
   "execution_count": null
  }
 ],
 "metadata": {
  "kernelspec": {
   "display_name": "MBML",
   "language": "python",
   "name": "python3"
  },
  "language_info": {
   "codemirror_mode": {
    "name": "ipython",
    "version": 3
   },
   "file_extension": ".py",
   "mimetype": "text/x-python",
   "name": "python",
   "nbconvert_exporter": "python",
   "pygments_lexer": "ipython3",
   "version": "3.12.2"
  }
 },
 "nbformat": 4,
 "nbformat_minor": 2
}
