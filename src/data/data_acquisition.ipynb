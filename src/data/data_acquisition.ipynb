{
 "cells": [
  {
   "cell_type": "code",
   "execution_count": 11,
   "metadata": {},
   "outputs": [],
   "source": [
    "import pandas as pd\n",
    "import pyro\n",
    "import torch"
   ]
  },
  {
   "cell_type": "code",
   "execution_count": 17,
   "metadata": {},
   "outputs": [
    {
     "data": {
      "text/plain": [
       "0         56\n",
       "1         69\n",
       "2         46\n",
       "3         32\n",
       "4         60\n",
       "          ..\n",
       "255342    19\n",
       "255343    32\n",
       "255344    56\n",
       "255345    42\n",
       "255346    62\n",
       "Name: Age, Length: 255347, dtype: int64"
      ]
     },
     "execution_count": 17,
     "metadata": {},
     "output_type": "execute_result"
    }
   ],
   "source": [
    "raw_path = \"../../data/raw/\"\n",
    "loan_default_df = pd.read_csv(raw_path + \"Loan_default.csv\")"
   ]
  },
  {
   "cell_type": "code",
   "execution_count": 18,
   "metadata": {},
   "outputs": [],
   "source": [
    "import pandas as pd\n",
    "from sklearn.model_selection import train_test_split\n",
    "from sklearn.preprocessing import LabelEncoder, StandardScaler\n",
    "import torch\n",
    "import pyro\n",
    "import pyro.distributions as dist\n",
    "from pyro.infer import SVI, Trace_ELBO\n",
    "from pyro.optim import Adam"
   ]
  },
  {
   "cell_type": "code",
   "execution_count": 19,
   "metadata": {},
   "outputs": [
    {
     "name": "stdout",
     "output_type": "stream",
     "text": [
      "Step 0 : Loss = 712894.465089798\n",
      "Step 500 : Loss = 92338.48615282774\n",
      "Step 1000 : Loss = 97768.59743851423\n",
      "Step 1500 : Loss = 68180.95592796803\n",
      "Step 2000 : Loss = 67633.76522356272\n",
      "Step 2500 : Loss = 67249.34474694729\n",
      "Step 3000 : Loss = 65970.93062913418\n",
      "Step 3500 : Loss = 66445.28516495228\n",
      "Step 4000 : Loss = 65433.48547422886\n",
      "Step 4500 : Loss = 65468.01813709736\n",
      "Train Accuracy: 0.8848915696144104\n",
      "Test Accuracy: 0.8860583305358887\n"
     ]
    }
   ],
   "source": [
    "# Convert categorical variables to numeric\n",
    "categorical_columns = ['Education', 'EmploymentType', 'MaritalStatus', 'HasMortgage', \n",
    "                       'HasDependents', 'LoanPurpose', 'HasCoSigner']\n",
    "label_encoders = {col: LabelEncoder() for col in categorical_columns}\n",
    "\n",
    "for col in categorical_columns:\n",
    "    loan_default_df[col] = label_encoders[col].fit_transform(loan_default_df[col])\n",
    "\n",
    "# Normalize numerical features\n",
    "numerical_columns = ['Age', 'Income', 'LoanAmount', 'CreditScore', 'MonthsEmployed', \n",
    "                     'NumCreditLines', 'InterestRate', 'LoanTerm', 'DTIRatio']\n",
    "scaler = StandardScaler()\n",
    "loan_default_df[numerical_columns] = scaler.fit_transform(loan_default_df[numerical_columns])\n",
    "\n",
    "# Split the data into training and test sets\n",
    "X = loan_default_df.drop(columns=['LoanID', 'Default'])\n",
    "y = loan_default_df['Default']\n",
    "\n",
    "X_train, X_test, y_train, y_test = train_test_split(X, y, test_size=0.2, random_state=42)\n",
    "\n",
    "# Convert data to PyTorch tensors\n",
    "X_train_tensor = torch.tensor(X_train.values, dtype=torch.float32)\n",
    "y_train_tensor = torch.tensor(y_train.values, dtype=torch.float32)\n",
    "X_test_tensor = torch.tensor(X_test.values, dtype=torch.float32)\n",
    "y_test_tensor = torch.tensor(y_test.values, dtype=torch.float32)\n",
    "\n",
    "# Define the logistic regression model\n",
    "def model(X, y=None):\n",
    "    # Priors for weights and bias\n",
    "    w_prior = dist.Normal(torch.zeros(X.shape[1]), torch.ones(X.shape[1])).to_event(1)\n",
    "    b_prior = dist.Normal(0., 1.)\n",
    "    \n",
    "    # Sample weights and bias\n",
    "    weights = pyro.sample('weights', w_prior)\n",
    "    bias = pyro.sample('bias', b_prior)\n",
    "    \n",
    "    # Compute the logits\n",
    "    logits = (X @ weights) + bias\n",
    "    \n",
    "    # Likelihood\n",
    "    with pyro.plate('data', X.shape[0]):\n",
    "        y = pyro.sample('obs', dist.Bernoulli(logits=logits), obs=y)\n",
    "\n",
    "# Define the guide (variational distribution)\n",
    "def guide(X, y=None):\n",
    "    # Variational parameters for weights\n",
    "    w_loc = pyro.param('w_loc', torch.randn(X.shape[1]))\n",
    "    w_scale = pyro.param('w_scale', torch.ones(X.shape[1]), constraint=dist.constraints.positive)\n",
    "    b_loc = pyro.param('b_loc', torch.tensor(0.))\n",
    "    b_scale = pyro.param('b_scale', torch.tensor(1.), constraint=dist.constraints.positive)\n",
    "    \n",
    "    # Sample weights and bias\n",
    "    weights = pyro.sample('weights', dist.Normal(w_loc, w_scale).to_event(1))\n",
    "    bias = pyro.sample('bias', dist.Normal(b_loc, b_scale))\n",
    "\n",
    "# Define the optimizer\n",
    "optimizer = Adam({'lr': 0.01})\n",
    "\n",
    "# Define the SVI object\n",
    "svi = SVI(model, guide, optimizer, loss=Trace_ELBO())\n",
    "\n",
    "# Training the model\n",
    "num_iterations = 5000\n",
    "for step in range(num_iterations):\n",
    "    loss = svi.step(X_train_tensor, y_train_tensor)\n",
    "    if step % 500 == 0:\n",
    "        print(f'Step {step} : Loss = {loss}')\n",
    "\n",
    "# Function to predict\n",
    "def predict(X):\n",
    "    w_loc = pyro.param('w_loc')\n",
    "    b_loc = pyro.param('b_loc')\n",
    "    logits = X @ w_loc + b_loc\n",
    "    return torch.sigmoid(logits).round()\n",
    "\n",
    "# Evaluate the model\n",
    "y_pred_train = predict(X_train_tensor)\n",
    "train_accuracy = (y_pred_train == y_train_tensor).float().mean().item()\n",
    "\n",
    "y_pred_test = predict(X_test_tensor)\n",
    "test_accuracy = (y_pred_test == y_test_tensor).float().mean().item()\n",
    "\n",
    "print(f'Train Accuracy: {train_accuracy}')\n",
    "print(f'Test Accuracy: {test_accuracy}')"
   ]
  }
 ],
 "metadata": {
  "kernelspec": {
   "display_name": "Python 3",
   "language": "python",
   "name": "python3"
  },
  "language_info": {
   "codemirror_mode": {
    "name": "ipython",
    "version": 3
   },
   "file_extension": ".py",
   "mimetype": "text/x-python",
   "name": "python",
   "nbconvert_exporter": "python",
   "pygments_lexer": "ipython3",
   "version": "3.8.10"
  }
 },
 "nbformat": 4,
 "nbformat_minor": 2
}
