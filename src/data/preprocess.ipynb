{
 "cells": [
  {
   "cell_type": "code",
   "execution_count": 148,
   "metadata": {
    "ExecuteTime": {
     "end_time": "2024-04-01T14:44:24.733384Z",
     "start_time": "2024-04-01T14:44:24.725458Z"
    }
   },
   "outputs": [],
   "source": [
    "import pandas as pd\n",
    "import numpy as np\n",
    "import difflib"
   ]
  },
  {
   "cell_type": "code",
   "execution_count": 149,
   "metadata": {
    "ExecuteTime": {
     "end_time": "2024-04-01T14:44:24.919605Z",
     "start_time": "2024-04-01T14:44:24.902080Z"
    }
   },
   "outputs": [
    {
     "name": "stdout",
     "output_type": "stream",
     "text": [
      "C:\\Users\\pgsva\\PycharmProjects\\DTU\\MBML24\n"
     ]
    }
   ],
   "source": [
    "cd C:\\Users\\pgsva\\PycharmProjects\\DTU\\MBML24"
   ]
  },
  {
   "cell_type": "code",
   "execution_count": 150,
   "metadata": {
    "ExecuteTime": {
     "end_time": "2024-04-01T14:44:25.233126Z",
     "start_time": "2024-04-01T14:44:25.165167Z"
    }
   },
   "outputs": [],
   "source": [
    "data_national = pd.read_csv('data/raw/COMEPELDA_aggregate_v1.00.csv')\n",
    "data_european = pd.read_csv('data/raw/1999-2019_CHES_dataset_means.csv')\n",
    "country_codes = pd.read_csv('data/raw/countries.csv')  \n",
    "party_names = pd.read_csv('data/raw/partyNames_ncv2.csv')  "
   ]
  },
  {
   "cell_type": "code",
   "execution_count": 151,
   "metadata": {
    "ExecuteTime": {
     "end_time": "2024-04-01T14:44:25.388602Z",
     "start_time": "2024-04-01T14:44:25.364130Z"
    }
   },
   "outputs": [],
   "source": [
    "# Add country codes to national data\n",
    "data_national = pd.merge(data_national, country_codes, left_on='cName', right_on='Country', how='left')"
   ]
  },
  {
   "cell_type": "code",
   "execution_count": 153,
   "metadata": {
    "ExecuteTime": {
     "end_time": "2024-04-01T14:44:25.700325Z",
     "start_time": "2024-04-01T14:44:25.682182Z"
    }
   },
   "outputs": [],
   "source": [
    "# add country codes to european data\n",
    "data_european = pd.merge(data_european, country_codes, left_on='country', right_on='ID', how='left')"
   ]
  },
  {
   "cell_type": "code",
   "outputs": [],
   "source": [
    "data_european = pd.merge(data_european, party_names, left_on='party_id', right_on='partyID', how='left')"
   ],
   "metadata": {
    "collapsed": false,
    "ExecuteTime": {
     "end_time": "2024-04-01T14:44:26.430849Z",
     "start_time": "2024-04-01T14:44:26.410292Z"
    }
   },
   "execution_count": 157
  },
  {
   "cell_type": "code",
   "outputs": [],
   "source": [
    "test_data = pd.merge(data_european, data_national, left_on=[\"Country\", 'partyName'], right_on=[\"cName\", 'pName'], how='outer', indicator=True)"
   ],
   "metadata": {
    "collapsed": false,
    "ExecuteTime": {
     "end_time": "2024-04-01T14:44:27.040003Z",
     "start_time": "2024-04-01T14:44:26.970710Z"
    }
   },
   "execution_count": 159
  },
  {
   "cell_type": "code",
   "outputs": [],
   "source": [
    "T1 = test_data[test_data['_merge'] == \"left_only\"]\n",
    "T2 = test_data[test_data['_merge'] == \"right_only\"]\n",
    "T3 = test_data[test_data['_merge'] == \"both\"]"
   ],
   "metadata": {
    "collapsed": false,
    "ExecuteTime": {
     "end_time": "2024-04-01T14:44:27.242582Z",
     "start_time": "2024-04-01T14:44:27.197235Z"
    }
   },
   "execution_count": 160
  },
  {
   "cell_type": "code",
   "outputs": [
    {
     "data": {
      "text/plain": "           country     eastwest     eumember         year       expert  \\\ncount  1055.000000  1055.000000  1055.000000  1055.000000  1055.000000   \nmean     14.689100     0.633175     0.925118  2009.665403    11.737441   \nstd       9.702013     0.482167     0.263325     6.854747     4.696710   \nmin       1.000000     0.000000     0.000000  1999.000000     2.000000   \n25%       6.000000     0.000000     1.000000  2002.000000     8.000000   \n50%      12.000000     1.000000     1.000000  2010.000000    11.000000   \n75%      24.000000     1.000000     1.000000  2014.000000    14.000000   \nmax      40.000000     1.000000     1.000000  2019.000000    27.000000   \n\n          party_id        cmp_id         vote        seat  electionyear  ...  \\\ncount  1055.000000    825.000000  1000.000000  994.000000   1055.000000  ...   \nmean   1477.287204  50328.951515    11.007010   11.646278   2008.293839  ...   \nstd     969.017320  29178.184741    10.793449   14.015692      6.904809  ...   \nmin     103.000000  11110.000000     0.010000    0.000000   1996.000000  ...   \n25%     612.000000  31110.000000     3.367500    1.500000   2002.000000  ...   \n50%    1202.000000  41221.000000     6.900000    6.650000   2009.000000  ...   \n75%    2405.000000  82220.000000    15.325000   16.375000   2014.000000  ...   \nmax    4009.000000  97952.000000    49.280000   64.599998   2019.000000  ...   \n\n       pdFlagNofCand  cSeats  pcSeats  pdSeats  IndepCand01  cAddLisbon  \\\ncount            0.0     0.0      0.0      0.0          0.0         0.0   \nmean             NaN     NaN      NaN      NaN          NaN         NaN   \nstd              NaN     NaN      NaN      NaN          NaN         NaN   \nmin              NaN     NaN      NaN      NaN          NaN         NaN   \n25%              NaN     NaN      NaN      NaN          NaN         NaN   \n50%              NaN     NaN      NaN      NaN          NaN         NaN   \n75%              NaN     NaN      NaN      NaN          NaN         NaN   \nmax              NaN     NaN      NaN      NaN          NaN         NaN   \n\n       pAddLisbon  pAlliance01  IDauxElec  ID_y  \ncount         0.0          0.0        0.0   0.0  \nmean          NaN          NaN        NaN   NaN  \nstd           NaN          NaN        NaN   NaN  \nmin           NaN          NaN        NaN   NaN  \n25%           NaN          NaN        NaN   NaN  \n50%           NaN          NaN        NaN   NaN  \n75%           NaN          NaN        NaN   NaN  \nmax           NaN          NaN        NaN   NaN  \n\n[8 rows x 98 columns]",
      "text/html": "<div>\n<style scoped>\n    .dataframe tbody tr th:only-of-type {\n        vertical-align: middle;\n    }\n\n    .dataframe tbody tr th {\n        vertical-align: top;\n    }\n\n    .dataframe thead th {\n        text-align: right;\n    }\n</style>\n<table border=\"1\" class=\"dataframe\">\n  <thead>\n    <tr style=\"text-align: right;\">\n      <th></th>\n      <th>country</th>\n      <th>eastwest</th>\n      <th>eumember</th>\n      <th>year</th>\n      <th>expert</th>\n      <th>party_id</th>\n      <th>cmp_id</th>\n      <th>vote</th>\n      <th>seat</th>\n      <th>electionyear</th>\n      <th>...</th>\n      <th>pdFlagNofCand</th>\n      <th>cSeats</th>\n      <th>pcSeats</th>\n      <th>pdSeats</th>\n      <th>IndepCand01</th>\n      <th>cAddLisbon</th>\n      <th>pAddLisbon</th>\n      <th>pAlliance01</th>\n      <th>IDauxElec</th>\n      <th>ID_y</th>\n    </tr>\n  </thead>\n  <tbody>\n    <tr>\n      <th>count</th>\n      <td>1055.000000</td>\n      <td>1055.000000</td>\n      <td>1055.000000</td>\n      <td>1055.000000</td>\n      <td>1055.000000</td>\n      <td>1055.000000</td>\n      <td>825.000000</td>\n      <td>1000.000000</td>\n      <td>994.000000</td>\n      <td>1055.000000</td>\n      <td>...</td>\n      <td>0.0</td>\n      <td>0.0</td>\n      <td>0.0</td>\n      <td>0.0</td>\n      <td>0.0</td>\n      <td>0.0</td>\n      <td>0.0</td>\n      <td>0.0</td>\n      <td>0.0</td>\n      <td>0.0</td>\n    </tr>\n    <tr>\n      <th>mean</th>\n      <td>14.689100</td>\n      <td>0.633175</td>\n      <td>0.925118</td>\n      <td>2009.665403</td>\n      <td>11.737441</td>\n      <td>1477.287204</td>\n      <td>50328.951515</td>\n      <td>11.007010</td>\n      <td>11.646278</td>\n      <td>2008.293839</td>\n      <td>...</td>\n      <td>NaN</td>\n      <td>NaN</td>\n      <td>NaN</td>\n      <td>NaN</td>\n      <td>NaN</td>\n      <td>NaN</td>\n      <td>NaN</td>\n      <td>NaN</td>\n      <td>NaN</td>\n      <td>NaN</td>\n    </tr>\n    <tr>\n      <th>std</th>\n      <td>9.702013</td>\n      <td>0.482167</td>\n      <td>0.263325</td>\n      <td>6.854747</td>\n      <td>4.696710</td>\n      <td>969.017320</td>\n      <td>29178.184741</td>\n      <td>10.793449</td>\n      <td>14.015692</td>\n      <td>6.904809</td>\n      <td>...</td>\n      <td>NaN</td>\n      <td>NaN</td>\n      <td>NaN</td>\n      <td>NaN</td>\n      <td>NaN</td>\n      <td>NaN</td>\n      <td>NaN</td>\n      <td>NaN</td>\n      <td>NaN</td>\n      <td>NaN</td>\n    </tr>\n    <tr>\n      <th>min</th>\n      <td>1.000000</td>\n      <td>0.000000</td>\n      <td>0.000000</td>\n      <td>1999.000000</td>\n      <td>2.000000</td>\n      <td>103.000000</td>\n      <td>11110.000000</td>\n      <td>0.010000</td>\n      <td>0.000000</td>\n      <td>1996.000000</td>\n      <td>...</td>\n      <td>NaN</td>\n      <td>NaN</td>\n      <td>NaN</td>\n      <td>NaN</td>\n      <td>NaN</td>\n      <td>NaN</td>\n      <td>NaN</td>\n      <td>NaN</td>\n      <td>NaN</td>\n      <td>NaN</td>\n    </tr>\n    <tr>\n      <th>25%</th>\n      <td>6.000000</td>\n      <td>0.000000</td>\n      <td>1.000000</td>\n      <td>2002.000000</td>\n      <td>8.000000</td>\n      <td>612.000000</td>\n      <td>31110.000000</td>\n      <td>3.367500</td>\n      <td>1.500000</td>\n      <td>2002.000000</td>\n      <td>...</td>\n      <td>NaN</td>\n      <td>NaN</td>\n      <td>NaN</td>\n      <td>NaN</td>\n      <td>NaN</td>\n      <td>NaN</td>\n      <td>NaN</td>\n      <td>NaN</td>\n      <td>NaN</td>\n      <td>NaN</td>\n    </tr>\n    <tr>\n      <th>50%</th>\n      <td>12.000000</td>\n      <td>1.000000</td>\n      <td>1.000000</td>\n      <td>2010.000000</td>\n      <td>11.000000</td>\n      <td>1202.000000</td>\n      <td>41221.000000</td>\n      <td>6.900000</td>\n      <td>6.650000</td>\n      <td>2009.000000</td>\n      <td>...</td>\n      <td>NaN</td>\n      <td>NaN</td>\n      <td>NaN</td>\n      <td>NaN</td>\n      <td>NaN</td>\n      <td>NaN</td>\n      <td>NaN</td>\n      <td>NaN</td>\n      <td>NaN</td>\n      <td>NaN</td>\n    </tr>\n    <tr>\n      <th>75%</th>\n      <td>24.000000</td>\n      <td>1.000000</td>\n      <td>1.000000</td>\n      <td>2014.000000</td>\n      <td>14.000000</td>\n      <td>2405.000000</td>\n      <td>82220.000000</td>\n      <td>15.325000</td>\n      <td>16.375000</td>\n      <td>2014.000000</td>\n      <td>...</td>\n      <td>NaN</td>\n      <td>NaN</td>\n      <td>NaN</td>\n      <td>NaN</td>\n      <td>NaN</td>\n      <td>NaN</td>\n      <td>NaN</td>\n      <td>NaN</td>\n      <td>NaN</td>\n      <td>NaN</td>\n    </tr>\n    <tr>\n      <th>max</th>\n      <td>40.000000</td>\n      <td>1.000000</td>\n      <td>1.000000</td>\n      <td>2019.000000</td>\n      <td>27.000000</td>\n      <td>4009.000000</td>\n      <td>97952.000000</td>\n      <td>49.280000</td>\n      <td>64.599998</td>\n      <td>2019.000000</td>\n      <td>...</td>\n      <td>NaN</td>\n      <td>NaN</td>\n      <td>NaN</td>\n      <td>NaN</td>\n      <td>NaN</td>\n      <td>NaN</td>\n      <td>NaN</td>\n      <td>NaN</td>\n      <td>NaN</td>\n      <td>NaN</td>\n    </tr>\n  </tbody>\n</table>\n<p>8 rows × 98 columns</p>\n</div>"
     },
     "execution_count": 161,
     "metadata": {},
     "output_type": "execute_result"
    }
   ],
   "source": [
    "T1.describe()"
   ],
   "metadata": {
    "collapsed": false,
    "ExecuteTime": {
     "end_time": "2024-04-01T14:44:27.819284Z",
     "start_time": "2024-04-01T14:44:27.444487Z"
    }
   },
   "execution_count": 161
  },
  {
   "cell_type": "code",
   "outputs": [
    {
     "data": {
      "text/plain": "       country  eastwest  eumember  year  expert  party_id  cmp_id  vote  \\\ncount      0.0       0.0       0.0   0.0     0.0       0.0     0.0   0.0   \nmean       NaN       NaN       NaN   NaN     NaN       NaN     NaN   NaN   \nstd        NaN       NaN       NaN   NaN     NaN       NaN     NaN   NaN   \nmin        NaN       NaN       NaN   NaN     NaN       NaN     NaN   NaN   \n25%        NaN       NaN       NaN   NaN     NaN       NaN     NaN   NaN   \n50%        NaN       NaN       NaN   NaN     NaN       NaN     NaN   NaN   \n75%        NaN       NaN       NaN   NaN     NaN       NaN     NaN   NaN   \nmax        NaN       NaN       NaN   NaN     NaN       NaN     NaN   NaN   \n\n       seat  electionyear  ...  pdFlagNofCand       cSeats      pcSeats  \\\ncount   0.0           0.0  ...    1030.000000  1030.000000  1030.000000   \nmean    NaN           NaN  ...       0.000971    55.541748     7.288350   \nstd     NaN           NaN  ...       0.031159    29.284199    10.924841   \nmin     NaN           NaN  ...       0.000000     3.000000     0.000000   \n25%     NaN           NaN  ...       0.000000    22.000000     0.000000   \n50%     NaN           NaN  ...       0.000000    70.000000     2.000000   \n75%     NaN           NaN  ...       0.000000    78.000000     9.000000   \nmax     NaN           NaN  ...       1.000000    99.000000    43.000000   \n\n           pdSeats  IndepCand01   cAddLisbon   pAddLisbon  pAlliance01  \\\ncount  1030.000000  1030.000000  1030.000000  1030.000000  1030.000000   \nmean      1.607767     0.017476     0.267961     0.028155     0.125243   \nstd       2.586790     0.131099     0.602911     0.165497     0.331155   \nmin       0.000000     0.000000     0.000000     0.000000     0.000000   \n25%       0.000000     0.000000     0.000000     0.000000     0.000000   \n50%       1.000000     0.000000     0.000000     0.000000     0.000000   \n75%       2.000000     0.000000     0.000000     0.000000     0.000000   \nmax      27.000000     1.000000     4.000000     1.000000     1.000000   \n\n         IDauxElec         ID_y  \ncount  1030.000000  1030.000000  \nmean    473.464078    12.633981  \nstd     270.470781     9.010684  \nmin       4.000000     1.000000  \n25%     219.000000     6.000000  \n50%     410.000000     8.000000  \n75%     824.000000    20.000000  \nmax     849.000000    40.000000  \n\n[8 rows x 98 columns]",
      "text/html": "<div>\n<style scoped>\n    .dataframe tbody tr th:only-of-type {\n        vertical-align: middle;\n    }\n\n    .dataframe tbody tr th {\n        vertical-align: top;\n    }\n\n    .dataframe thead th {\n        text-align: right;\n    }\n</style>\n<table border=\"1\" class=\"dataframe\">\n  <thead>\n    <tr style=\"text-align: right;\">\n      <th></th>\n      <th>country</th>\n      <th>eastwest</th>\n      <th>eumember</th>\n      <th>year</th>\n      <th>expert</th>\n      <th>party_id</th>\n      <th>cmp_id</th>\n      <th>vote</th>\n      <th>seat</th>\n      <th>electionyear</th>\n      <th>...</th>\n      <th>pdFlagNofCand</th>\n      <th>cSeats</th>\n      <th>pcSeats</th>\n      <th>pdSeats</th>\n      <th>IndepCand01</th>\n      <th>cAddLisbon</th>\n      <th>pAddLisbon</th>\n      <th>pAlliance01</th>\n      <th>IDauxElec</th>\n      <th>ID_y</th>\n    </tr>\n  </thead>\n  <tbody>\n    <tr>\n      <th>count</th>\n      <td>0.0</td>\n      <td>0.0</td>\n      <td>0.0</td>\n      <td>0.0</td>\n      <td>0.0</td>\n      <td>0.0</td>\n      <td>0.0</td>\n      <td>0.0</td>\n      <td>0.0</td>\n      <td>0.0</td>\n      <td>...</td>\n      <td>1030.000000</td>\n      <td>1030.000000</td>\n      <td>1030.000000</td>\n      <td>1030.000000</td>\n      <td>1030.000000</td>\n      <td>1030.000000</td>\n      <td>1030.000000</td>\n      <td>1030.000000</td>\n      <td>1030.000000</td>\n      <td>1030.000000</td>\n    </tr>\n    <tr>\n      <th>mean</th>\n      <td>NaN</td>\n      <td>NaN</td>\n      <td>NaN</td>\n      <td>NaN</td>\n      <td>NaN</td>\n      <td>NaN</td>\n      <td>NaN</td>\n      <td>NaN</td>\n      <td>NaN</td>\n      <td>NaN</td>\n      <td>...</td>\n      <td>0.000971</td>\n      <td>55.541748</td>\n      <td>7.288350</td>\n      <td>1.607767</td>\n      <td>0.017476</td>\n      <td>0.267961</td>\n      <td>0.028155</td>\n      <td>0.125243</td>\n      <td>473.464078</td>\n      <td>12.633981</td>\n    </tr>\n    <tr>\n      <th>std</th>\n      <td>NaN</td>\n      <td>NaN</td>\n      <td>NaN</td>\n      <td>NaN</td>\n      <td>NaN</td>\n      <td>NaN</td>\n      <td>NaN</td>\n      <td>NaN</td>\n      <td>NaN</td>\n      <td>NaN</td>\n      <td>...</td>\n      <td>0.031159</td>\n      <td>29.284199</td>\n      <td>10.924841</td>\n      <td>2.586790</td>\n      <td>0.131099</td>\n      <td>0.602911</td>\n      <td>0.165497</td>\n      <td>0.331155</td>\n      <td>270.470781</td>\n      <td>9.010684</td>\n    </tr>\n    <tr>\n      <th>min</th>\n      <td>NaN</td>\n      <td>NaN</td>\n      <td>NaN</td>\n      <td>NaN</td>\n      <td>NaN</td>\n      <td>NaN</td>\n      <td>NaN</td>\n      <td>NaN</td>\n      <td>NaN</td>\n      <td>NaN</td>\n      <td>...</td>\n      <td>0.000000</td>\n      <td>3.000000</td>\n      <td>0.000000</td>\n      <td>0.000000</td>\n      <td>0.000000</td>\n      <td>0.000000</td>\n      <td>0.000000</td>\n      <td>0.000000</td>\n      <td>4.000000</td>\n      <td>1.000000</td>\n    </tr>\n    <tr>\n      <th>25%</th>\n      <td>NaN</td>\n      <td>NaN</td>\n      <td>NaN</td>\n      <td>NaN</td>\n      <td>NaN</td>\n      <td>NaN</td>\n      <td>NaN</td>\n      <td>NaN</td>\n      <td>NaN</td>\n      <td>NaN</td>\n      <td>...</td>\n      <td>0.000000</td>\n      <td>22.000000</td>\n      <td>0.000000</td>\n      <td>0.000000</td>\n      <td>0.000000</td>\n      <td>0.000000</td>\n      <td>0.000000</td>\n      <td>0.000000</td>\n      <td>219.000000</td>\n      <td>6.000000</td>\n    </tr>\n    <tr>\n      <th>50%</th>\n      <td>NaN</td>\n      <td>NaN</td>\n      <td>NaN</td>\n      <td>NaN</td>\n      <td>NaN</td>\n      <td>NaN</td>\n      <td>NaN</td>\n      <td>NaN</td>\n      <td>NaN</td>\n      <td>NaN</td>\n      <td>...</td>\n      <td>0.000000</td>\n      <td>70.000000</td>\n      <td>2.000000</td>\n      <td>1.000000</td>\n      <td>0.000000</td>\n      <td>0.000000</td>\n      <td>0.000000</td>\n      <td>0.000000</td>\n      <td>410.000000</td>\n      <td>8.000000</td>\n    </tr>\n    <tr>\n      <th>75%</th>\n      <td>NaN</td>\n      <td>NaN</td>\n      <td>NaN</td>\n      <td>NaN</td>\n      <td>NaN</td>\n      <td>NaN</td>\n      <td>NaN</td>\n      <td>NaN</td>\n      <td>NaN</td>\n      <td>NaN</td>\n      <td>...</td>\n      <td>0.000000</td>\n      <td>78.000000</td>\n      <td>9.000000</td>\n      <td>2.000000</td>\n      <td>0.000000</td>\n      <td>0.000000</td>\n      <td>0.000000</td>\n      <td>0.000000</td>\n      <td>824.000000</td>\n      <td>20.000000</td>\n    </tr>\n    <tr>\n      <th>max</th>\n      <td>NaN</td>\n      <td>NaN</td>\n      <td>NaN</td>\n      <td>NaN</td>\n      <td>NaN</td>\n      <td>NaN</td>\n      <td>NaN</td>\n      <td>NaN</td>\n      <td>NaN</td>\n      <td>NaN</td>\n      <td>...</td>\n      <td>1.000000</td>\n      <td>99.000000</td>\n      <td>43.000000</td>\n      <td>27.000000</td>\n      <td>1.000000</td>\n      <td>4.000000</td>\n      <td>1.000000</td>\n      <td>1.000000</td>\n      <td>849.000000</td>\n      <td>40.000000</td>\n    </tr>\n  </tbody>\n</table>\n<p>8 rows × 98 columns</p>\n</div>"
     },
     "execution_count": 162,
     "metadata": {},
     "output_type": "execute_result"
    }
   ],
   "source": [
    "T2.describe()"
   ],
   "metadata": {
    "collapsed": false,
    "ExecuteTime": {
     "end_time": "2024-04-01T14:44:28.131070Z",
     "start_time": "2024-04-01T14:44:27.823283Z"
    }
   },
   "execution_count": 162
  },
  {
   "cell_type": "code",
   "outputs": [
    {
     "data": {
      "text/plain": "           country     eastwest     eumember         year      expert  \\\ncount  3548.000000  3548.000000  3548.000000  3548.000000  3548.00000   \nmean     14.257046     0.667418     0.932074  2008.860767    11.67221   \nstd       8.929596     0.471205     0.251654     6.483942     4.46601   \nmin       1.000000     0.000000     0.000000  1999.000000     2.00000   \n25%       8.000000     0.000000     1.000000  2002.000000     8.00000   \n50%      11.000000     1.000000     1.000000  2010.000000    11.00000   \n75%      26.000000     1.000000     1.000000  2014.000000    15.00000   \nmax      40.000000     1.000000     1.000000  2019.000000    27.00000   \n\n          party_id        cmp_id         vote         seat  electionyear  ...  \\\ncount  3548.000000   3188.000000  3479.000000  3479.000000   3548.000000  ...   \nmean   1431.417418  56256.428168    14.722521    16.477379   2007.356821  ...   \nstd     891.910603  27883.808808    13.488499    17.725466      6.615806  ...   \nmin     102.000000  11520.000000     0.100000     0.000000   1996.000000  ...   \n25%     803.000000  32530.000000     3.900000     2.000000   2002.000000  ...   \n50%    1107.000000  51901.000000     8.900000     8.800000   2007.000000  ...   \n75%    2601.000000  92210.000000    26.850000    30.700001   2011.000000  ...   \nmax    4005.000000  97951.000000    55.040000    63.599998   2019.000000  ...   \n\n       pdFlagNofCand       cSeats      pcSeats      pdSeats  IndepCand01  \\\ncount    3548.000000  3548.000000  3548.000000  3548.000000       3548.0   \nmean        0.002255    49.996054     7.317926     1.904453          0.0   \nstd         0.047438    26.160873     7.268335     3.305113          0.0   \nmin         0.000000     5.000000     0.000000     0.000000          0.0   \n25%         0.000000    22.000000     2.000000     0.000000          0.0   \n50%         0.000000    51.000000     4.000000     1.000000          0.0   \n75%         0.000000    73.000000    12.000000     2.000000          0.0   \nmax         1.000000    99.000000    33.000000    33.000000          0.0   \n\n        cAddLisbon   pAddLisbon  pAlliance01    IDauxElec         ID_y  \ncount  3548.000000  3548.000000  3548.000000  3548.000000  3548.000000  \nmean      0.219278     0.040304     0.089064   469.625141    14.257046  \nstd       0.500747     0.205119     0.284877   270.465378     8.929596  \nmin       0.000000     0.000000     0.000000     4.000000     1.000000  \n25%       0.000000     0.000000     0.000000   219.000000     8.000000  \n50%       0.000000     0.000000     0.000000   374.000000    11.000000  \n75%       0.000000     0.000000     0.000000   822.000000    26.000000  \nmax       4.000000     2.000000     1.000000   849.000000    40.000000  \n\n[8 rows x 98 columns]",
      "text/html": "<div>\n<style scoped>\n    .dataframe tbody tr th:only-of-type {\n        vertical-align: middle;\n    }\n\n    .dataframe tbody tr th {\n        vertical-align: top;\n    }\n\n    .dataframe thead th {\n        text-align: right;\n    }\n</style>\n<table border=\"1\" class=\"dataframe\">\n  <thead>\n    <tr style=\"text-align: right;\">\n      <th></th>\n      <th>country</th>\n      <th>eastwest</th>\n      <th>eumember</th>\n      <th>year</th>\n      <th>expert</th>\n      <th>party_id</th>\n      <th>cmp_id</th>\n      <th>vote</th>\n      <th>seat</th>\n      <th>electionyear</th>\n      <th>...</th>\n      <th>pdFlagNofCand</th>\n      <th>cSeats</th>\n      <th>pcSeats</th>\n      <th>pdSeats</th>\n      <th>IndepCand01</th>\n      <th>cAddLisbon</th>\n      <th>pAddLisbon</th>\n      <th>pAlliance01</th>\n      <th>IDauxElec</th>\n      <th>ID_y</th>\n    </tr>\n  </thead>\n  <tbody>\n    <tr>\n      <th>count</th>\n      <td>3548.000000</td>\n      <td>3548.000000</td>\n      <td>3548.000000</td>\n      <td>3548.000000</td>\n      <td>3548.00000</td>\n      <td>3548.000000</td>\n      <td>3188.000000</td>\n      <td>3479.000000</td>\n      <td>3479.000000</td>\n      <td>3548.000000</td>\n      <td>...</td>\n      <td>3548.000000</td>\n      <td>3548.000000</td>\n      <td>3548.000000</td>\n      <td>3548.000000</td>\n      <td>3548.0</td>\n      <td>3548.000000</td>\n      <td>3548.000000</td>\n      <td>3548.000000</td>\n      <td>3548.000000</td>\n      <td>3548.000000</td>\n    </tr>\n    <tr>\n      <th>mean</th>\n      <td>14.257046</td>\n      <td>0.667418</td>\n      <td>0.932074</td>\n      <td>2008.860767</td>\n      <td>11.67221</td>\n      <td>1431.417418</td>\n      <td>56256.428168</td>\n      <td>14.722521</td>\n      <td>16.477379</td>\n      <td>2007.356821</td>\n      <td>...</td>\n      <td>0.002255</td>\n      <td>49.996054</td>\n      <td>7.317926</td>\n      <td>1.904453</td>\n      <td>0.0</td>\n      <td>0.219278</td>\n      <td>0.040304</td>\n      <td>0.089064</td>\n      <td>469.625141</td>\n      <td>14.257046</td>\n    </tr>\n    <tr>\n      <th>std</th>\n      <td>8.929596</td>\n      <td>0.471205</td>\n      <td>0.251654</td>\n      <td>6.483942</td>\n      <td>4.46601</td>\n      <td>891.910603</td>\n      <td>27883.808808</td>\n      <td>13.488499</td>\n      <td>17.725466</td>\n      <td>6.615806</td>\n      <td>...</td>\n      <td>0.047438</td>\n      <td>26.160873</td>\n      <td>7.268335</td>\n      <td>3.305113</td>\n      <td>0.0</td>\n      <td>0.500747</td>\n      <td>0.205119</td>\n      <td>0.284877</td>\n      <td>270.465378</td>\n      <td>8.929596</td>\n    </tr>\n    <tr>\n      <th>min</th>\n      <td>1.000000</td>\n      <td>0.000000</td>\n      <td>0.000000</td>\n      <td>1999.000000</td>\n      <td>2.00000</td>\n      <td>102.000000</td>\n      <td>11520.000000</td>\n      <td>0.100000</td>\n      <td>0.000000</td>\n      <td>1996.000000</td>\n      <td>...</td>\n      <td>0.000000</td>\n      <td>5.000000</td>\n      <td>0.000000</td>\n      <td>0.000000</td>\n      <td>0.0</td>\n      <td>0.000000</td>\n      <td>0.000000</td>\n      <td>0.000000</td>\n      <td>4.000000</td>\n      <td>1.000000</td>\n    </tr>\n    <tr>\n      <th>25%</th>\n      <td>8.000000</td>\n      <td>0.000000</td>\n      <td>1.000000</td>\n      <td>2002.000000</td>\n      <td>8.00000</td>\n      <td>803.000000</td>\n      <td>32530.000000</td>\n      <td>3.900000</td>\n      <td>2.000000</td>\n      <td>2002.000000</td>\n      <td>...</td>\n      <td>0.000000</td>\n      <td>22.000000</td>\n      <td>2.000000</td>\n      <td>0.000000</td>\n      <td>0.0</td>\n      <td>0.000000</td>\n      <td>0.000000</td>\n      <td>0.000000</td>\n      <td>219.000000</td>\n      <td>8.000000</td>\n    </tr>\n    <tr>\n      <th>50%</th>\n      <td>11.000000</td>\n      <td>1.000000</td>\n      <td>1.000000</td>\n      <td>2010.000000</td>\n      <td>11.00000</td>\n      <td>1107.000000</td>\n      <td>51901.000000</td>\n      <td>8.900000</td>\n      <td>8.800000</td>\n      <td>2007.000000</td>\n      <td>...</td>\n      <td>0.000000</td>\n      <td>51.000000</td>\n      <td>4.000000</td>\n      <td>1.000000</td>\n      <td>0.0</td>\n      <td>0.000000</td>\n      <td>0.000000</td>\n      <td>0.000000</td>\n      <td>374.000000</td>\n      <td>11.000000</td>\n    </tr>\n    <tr>\n      <th>75%</th>\n      <td>26.000000</td>\n      <td>1.000000</td>\n      <td>1.000000</td>\n      <td>2014.000000</td>\n      <td>15.00000</td>\n      <td>2601.000000</td>\n      <td>92210.000000</td>\n      <td>26.850000</td>\n      <td>30.700001</td>\n      <td>2011.000000</td>\n      <td>...</td>\n      <td>0.000000</td>\n      <td>73.000000</td>\n      <td>12.000000</td>\n      <td>2.000000</td>\n      <td>0.0</td>\n      <td>0.000000</td>\n      <td>0.000000</td>\n      <td>0.000000</td>\n      <td>822.000000</td>\n      <td>26.000000</td>\n    </tr>\n    <tr>\n      <th>max</th>\n      <td>40.000000</td>\n      <td>1.000000</td>\n      <td>1.000000</td>\n      <td>2019.000000</td>\n      <td>27.00000</td>\n      <td>4005.000000</td>\n      <td>97951.000000</td>\n      <td>55.040000</td>\n      <td>63.599998</td>\n      <td>2019.000000</td>\n      <td>...</td>\n      <td>1.000000</td>\n      <td>99.000000</td>\n      <td>33.000000</td>\n      <td>33.000000</td>\n      <td>0.0</td>\n      <td>4.000000</td>\n      <td>2.000000</td>\n      <td>1.000000</td>\n      <td>849.000000</td>\n      <td>40.000000</td>\n    </tr>\n  </tbody>\n</table>\n<p>8 rows × 98 columns</p>\n</div>"
     },
     "execution_count": 163,
     "metadata": {},
     "output_type": "execute_result"
    }
   ],
   "source": [
    "T3.describe()"
   ],
   "metadata": {
    "collapsed": false,
    "ExecuteTime": {
     "end_time": "2024-04-01T14:44:28.462933Z",
     "start_time": "2024-04-01T14:44:28.134085Z"
    }
   },
   "execution_count": 163
  },
  {
   "cell_type": "code",
   "outputs": [
    {
     "data": {
      "text/plain": "3071"
     },
     "execution_count": 164,
     "metadata": {},
     "output_type": "execute_result"
    }
   ],
   "source": [
    "3071"
   ],
   "metadata": {
    "collapsed": false,
    "ExecuteTime": {
     "end_time": "2024-04-01T14:44:28.479073Z",
     "start_time": "2024-04-01T14:44:28.465485Z"
    }
   },
   "execution_count": 164
  },
  {
   "cell_type": "code",
   "outputs": [],
   "source": [
    "#data_national[\"alt_partyName\"] = data_national[\"pName\"].astype(str).apply(lambda x: difflib.get_close_matches(x, data_european[data_national[\"cName\"] == data_european[\"Country\"]][\"partyName\"].astype(str)))\n",
    "\n",
    "data_national[\"alt_partyName\"] = [difflib.get_close_matches(data_national.loc[idx, \"pName\"], data_european[data_national.loc[idx, \"cName\"] == data_european[\"Country\"]][\"partyName\"].astype(str)) for idx in range(len(data_national))]\n"
   ],
   "metadata": {
    "collapsed": false,
    "ExecuteTime": {
     "end_time": "2024-04-01T15:27:19.288473Z",
     "start_time": "2024-04-01T15:27:12.785417Z"
    }
   },
   "execution_count": 179
  },
  {
   "cell_type": "code",
   "outputs": [
    {
     "data": {
      "text/plain": "     country  eastwest  eumember  year  expert  party_id  cmp_id party  vote  \\\n546        8         1         1  2006       6       830     NaN    PP   0.9   \n\n     seat  ...  chesversion  ID  Abbreviation  Country  CountryAbrev  partyID  \\\n546   0.0  ...       2020.1   8            IT    Italy            IT    830.0   \n\n     partyAbrev               partyName       partyNameEng  \\\n546          PP  Partito dei Pensionati  Pensioners’ Party   \n\n                                         alt_partyName  \n546  [Partito Pensionati, Partito Pensionati, Parti...  \n\n[1 rows x 93 columns]",
      "text/html": "<div>\n<style scoped>\n    .dataframe tbody tr th:only-of-type {\n        vertical-align: middle;\n    }\n\n    .dataframe tbody tr th {\n        vertical-align: top;\n    }\n\n    .dataframe thead th {\n        text-align: right;\n    }\n</style>\n<table border=\"1\" class=\"dataframe\">\n  <thead>\n    <tr style=\"text-align: right;\">\n      <th></th>\n      <th>country</th>\n      <th>eastwest</th>\n      <th>eumember</th>\n      <th>year</th>\n      <th>expert</th>\n      <th>party_id</th>\n      <th>cmp_id</th>\n      <th>party</th>\n      <th>vote</th>\n      <th>seat</th>\n      <th>...</th>\n      <th>chesversion</th>\n      <th>ID</th>\n      <th>Abbreviation</th>\n      <th>Country</th>\n      <th>CountryAbrev</th>\n      <th>partyID</th>\n      <th>partyAbrev</th>\n      <th>partyName</th>\n      <th>partyNameEng</th>\n      <th>alt_partyName</th>\n    </tr>\n  </thead>\n  <tbody>\n    <tr>\n      <th>546</th>\n      <td>8</td>\n      <td>1</td>\n      <td>1</td>\n      <td>2006</td>\n      <td>6</td>\n      <td>830</td>\n      <td>NaN</td>\n      <td>PP</td>\n      <td>0.9</td>\n      <td>0.0</td>\n      <td>...</td>\n      <td>2020.1</td>\n      <td>8</td>\n      <td>IT</td>\n      <td>Italy</td>\n      <td>IT</td>\n      <td>830.0</td>\n      <td>PP</td>\n      <td>Partito dei Pensionati</td>\n      <td>Pensioners’ Party</td>\n      <td>[Partito Pensionati, Partito Pensionati, Parti...</td>\n    </tr>\n  </tbody>\n</table>\n<p>1 rows × 93 columns</p>\n</div>"
     },
     "execution_count": 206,
     "metadata": {},
     "output_type": "execute_result"
    }
   ],
   "source": [
    "data_european[(data_european[\"Country\"] == \"Italy\") & (data_european[\"partyName\"] == \"Partito dei Pensionati\")]"
   ],
   "metadata": {
    "collapsed": false,
    "ExecuteTime": {
     "end_time": "2024-04-01T16:04:23.079114Z",
     "start_time": "2024-04-01T16:04:23.044385Z"
    }
   },
   "execution_count": 206
  },
  {
   "cell_type": "code",
   "outputs": [
    {
     "data": {
      "text/plain": "        cName                                   pName  \\\n0     Austria        Freiheitliche Partei Österreichs   \n1     Austria                         Liberales Forum   \n2     Austria  Sozialdemokratische Partei Österreichs   \n3     Austria             Österreichische Volkspartei   \n4     Austria      Die Grünen – Die Grüne Alternative   \n...       ...                                     ...   \n1801   Sweden                      Socialdemokraterna   \n1802   Sweden                   Miljöpartiet de Gröna   \n1803   Sweden                           Centerpartiet   \n1804   Sweden                  Feministiskt initiativ   \n1805   Sweden                     Sverigedemokraterna   \n\n                                          alt_partyName  \n0     [Freiheitliche Partei Österreichs, Freiheitlic...  \n1     [Liberales Forum, Liberales Forum, Liberales F...  \n2     [Sozialdemokratische Partei Österreichs, Sozia...  \n3     [Österreichische Volkspartei, Österreichische ...  \n4                                                    []  \n...                                                 ...  \n1801  [Sverigedemokraterna, Sverigedemokraterna, Sve...  \n1802  [Miljöepartiet de Gröna, Miljöepartiet de Grön...  \n1803      [Centerpartiet, Centerpartiet, Centerpartiet]  \n1804                           [Feministiskt initiativ]  \n1805  [Sverigedemokraterna, Sverigedemokraterna, Sve...  \n\n[1806 rows x 3 columns]",
      "text/html": "<div>\n<style scoped>\n    .dataframe tbody tr th:only-of-type {\n        vertical-align: middle;\n    }\n\n    .dataframe tbody tr th {\n        vertical-align: top;\n    }\n\n    .dataframe thead th {\n        text-align: right;\n    }\n</style>\n<table border=\"1\" class=\"dataframe\">\n  <thead>\n    <tr style=\"text-align: right;\">\n      <th></th>\n      <th>cName</th>\n      <th>pName</th>\n      <th>alt_partyName</th>\n    </tr>\n  </thead>\n  <tbody>\n    <tr>\n      <th>0</th>\n      <td>Austria</td>\n      <td>Freiheitliche Partei Österreichs</td>\n      <td>[Freiheitliche Partei Österreichs, Freiheitlic...</td>\n    </tr>\n    <tr>\n      <th>1</th>\n      <td>Austria</td>\n      <td>Liberales Forum</td>\n      <td>[Liberales Forum, Liberales Forum, Liberales F...</td>\n    </tr>\n    <tr>\n      <th>2</th>\n      <td>Austria</td>\n      <td>Sozialdemokratische Partei Österreichs</td>\n      <td>[Sozialdemokratische Partei Österreichs, Sozia...</td>\n    </tr>\n    <tr>\n      <th>3</th>\n      <td>Austria</td>\n      <td>Österreichische Volkspartei</td>\n      <td>[Österreichische Volkspartei, Österreichische ...</td>\n    </tr>\n    <tr>\n      <th>4</th>\n      <td>Austria</td>\n      <td>Die Grünen – Die Grüne Alternative</td>\n      <td>[]</td>\n    </tr>\n    <tr>\n      <th>...</th>\n      <td>...</td>\n      <td>...</td>\n      <td>...</td>\n    </tr>\n    <tr>\n      <th>1801</th>\n      <td>Sweden</td>\n      <td>Socialdemokraterna</td>\n      <td>[Sverigedemokraterna, Sverigedemokraterna, Sve...</td>\n    </tr>\n    <tr>\n      <th>1802</th>\n      <td>Sweden</td>\n      <td>Miljöpartiet de Gröna</td>\n      <td>[Miljöepartiet de Gröna, Miljöepartiet de Grön...</td>\n    </tr>\n    <tr>\n      <th>1803</th>\n      <td>Sweden</td>\n      <td>Centerpartiet</td>\n      <td>[Centerpartiet, Centerpartiet, Centerpartiet]</td>\n    </tr>\n    <tr>\n      <th>1804</th>\n      <td>Sweden</td>\n      <td>Feministiskt initiativ</td>\n      <td>[Feministiskt initiativ]</td>\n    </tr>\n    <tr>\n      <th>1805</th>\n      <td>Sweden</td>\n      <td>Sverigedemokraterna</td>\n      <td>[Sverigedemokraterna, Sverigedemokraterna, Sve...</td>\n    </tr>\n  </tbody>\n</table>\n<p>1806 rows × 3 columns</p>\n</div>"
     },
     "execution_count": 180,
     "metadata": {},
     "output_type": "execute_result"
    }
   ],
   "source": [
    "data_national[[\"cName\", \"pName\", \"alt_partyName\"]]"
   ],
   "metadata": {
    "collapsed": false,
    "ExecuteTime": {
     "end_time": "2024-04-01T15:27:30.939498Z",
     "start_time": "2024-04-01T15:27:30.907834Z"
    }
   },
   "execution_count": 180
  },
  {
   "cell_type": "code",
   "outputs": [],
   "source": [
    "data_european[\"alt_partyName\"] = data_european[\"partyName\"].astype(str).apply(lambda x: difflib.get_close_matches(x, data_national[\"pName\"].astype(str)))"
   ],
   "metadata": {
    "collapsed": false,
    "ExecuteTime": {
     "end_time": "2024-04-01T14:45:10.487911Z",
     "start_time": "2024-04-01T14:44:28.716872Z"
    }
   },
   "execution_count": 166
  },
  {
   "cell_type": "code",
   "outputs": [
    {
     "data": {
      "text/plain": "      Country                             partyName  \\\n0     Belgium                        Front National   \n1     Belgium              Christelijke Volkspartij   \n2     Belgium       Christen-Democratisch en Vlaams   \n3     Belgium  Open Vlaamse Liberalen en Democraten   \n4     Belgium             Parti Réformateur Libéral   \n...       ...                                   ...   \n1573   Cyprus          Kinima Sosialdimokraton EDEK   \n1574   Cyprus     Kinima Oikologon Perivallontiston   \n1575   Cyprus                     Dimokratikó Kómma   \n1576   Cyprus                  Ethniko Laiko Metopo   \n1577   Cyprus    Anorthotikó Kómma Ergazómenou Laoú   \n\n                                          alt_partyName  \n0      [Front national, Front national, Front national]  \n1     [Christelijke Volkspartij, Christelijke Volksp...  \n2     [Christen Democratisch Appèl, Christen Democra...  \n3     [Partij voor Vrijheid en Vooruitgang | Vlaamse...  \n4     [Parti Réformateur Libéral, Partidul Democrat-...  \n...                                                 ...  \n1573  [Kinima Sosialdimokraton EDEK, Kinima Sosialdi...  \n1574                                                 []  \n1575  [Dimokratikó Kómma, Dimokratikó Kómma, Dimokra...  \n1576                                                 []  \n1577  [Anorthotikó Kómma Ergazómenou Laoú, Anorthoti...  \n\n[1578 rows x 3 columns]",
      "text/html": "<div>\n<style scoped>\n    .dataframe tbody tr th:only-of-type {\n        vertical-align: middle;\n    }\n\n    .dataframe tbody tr th {\n        vertical-align: top;\n    }\n\n    .dataframe thead th {\n        text-align: right;\n    }\n</style>\n<table border=\"1\" class=\"dataframe\">\n  <thead>\n    <tr style=\"text-align: right;\">\n      <th></th>\n      <th>Country</th>\n      <th>partyName</th>\n      <th>alt_partyName</th>\n    </tr>\n  </thead>\n  <tbody>\n    <tr>\n      <th>0</th>\n      <td>Belgium</td>\n      <td>Front National</td>\n      <td>[Front national, Front national, Front national]</td>\n    </tr>\n    <tr>\n      <th>1</th>\n      <td>Belgium</td>\n      <td>Christelijke Volkspartij</td>\n      <td>[Christelijke Volkspartij, Christelijke Volksp...</td>\n    </tr>\n    <tr>\n      <th>2</th>\n      <td>Belgium</td>\n      <td>Christen-Democratisch en Vlaams</td>\n      <td>[Christen Democratisch Appèl, Christen Democra...</td>\n    </tr>\n    <tr>\n      <th>3</th>\n      <td>Belgium</td>\n      <td>Open Vlaamse Liberalen en Democraten</td>\n      <td>[Partij voor Vrijheid en Vooruitgang | Vlaamse...</td>\n    </tr>\n    <tr>\n      <th>4</th>\n      <td>Belgium</td>\n      <td>Parti Réformateur Libéral</td>\n      <td>[Parti Réformateur Libéral, Partidul Democrat-...</td>\n    </tr>\n    <tr>\n      <th>...</th>\n      <td>...</td>\n      <td>...</td>\n      <td>...</td>\n    </tr>\n    <tr>\n      <th>1573</th>\n      <td>Cyprus</td>\n      <td>Kinima Sosialdimokraton EDEK</td>\n      <td>[Kinima Sosialdimokraton EDEK, Kinima Sosialdi...</td>\n    </tr>\n    <tr>\n      <th>1574</th>\n      <td>Cyprus</td>\n      <td>Kinima Oikologon Perivallontiston</td>\n      <td>[]</td>\n    </tr>\n    <tr>\n      <th>1575</th>\n      <td>Cyprus</td>\n      <td>Dimokratikó Kómma</td>\n      <td>[Dimokratikó Kómma, Dimokratikó Kómma, Dimokra...</td>\n    </tr>\n    <tr>\n      <th>1576</th>\n      <td>Cyprus</td>\n      <td>Ethniko Laiko Metopo</td>\n      <td>[]</td>\n    </tr>\n    <tr>\n      <th>1577</th>\n      <td>Cyprus</td>\n      <td>Anorthotikó Kómma Ergazómenou Laoú</td>\n      <td>[Anorthotikó Kómma Ergazómenou Laoú, Anorthoti...</td>\n    </tr>\n  </tbody>\n</table>\n<p>1578 rows × 3 columns</p>\n</div>"
     },
     "execution_count": 167,
     "metadata": {},
     "output_type": "execute_result"
    }
   ],
   "source": [
    "data_european[[\"Country\", \"partyName\", \"alt_partyName\"]]"
   ],
   "metadata": {
    "collapsed": false,
    "ExecuteTime": {
     "end_time": "2024-04-01T14:45:10.519177Z",
     "start_time": "2024-04-01T14:45:10.491528Z"
    }
   },
   "execution_count": 167
  }
 ],
 "metadata": {
  "kernelspec": {
   "display_name": "MBML",
   "language": "python",
   "name": "python3"
  },
  "language_info": {
   "codemirror_mode": {
    "name": "ipython",
    "version": 3
   },
   "file_extension": ".py",
   "mimetype": "text/x-python",
   "name": "python",
   "nbconvert_exporter": "python",
   "pygments_lexer": "ipython3",
   "version": "3.12.2"
  }
 },
 "nbformat": 4,
 "nbformat_minor": 2
}
