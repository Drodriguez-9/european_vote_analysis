{
 "cells": [
  {
   "cell_type": "code",
   "execution_count": 61,
   "metadata": {
    "ExecuteTime": {
     "end_time": "2024-03-31T19:30:25.109799Z",
     "start_time": "2024-03-31T19:30:25.103436Z"
    }
   },
   "outputs": [],
   "source": [
    "import pandas as pd\n",
    "import numpy as np\n",
    "import difflib\n",
    "import os"
   ]
  },
  {
   "cell_type": "code",
   "execution_count": 62,
   "metadata": {},
   "outputs": [],
   "source": [
    "os.chdir('C:/Cours DTU/1. Model-based Machine Learning/Project/european_vote_analysis')"
   ]
  },
  {
   "cell_type": "code",
   "execution_count": 63,
   "metadata": {
    "ExecuteTime": {
     "end_time": "2024-03-31T19:58:41.757933Z",
     "start_time": "2024-03-31T19:58:41.673489Z"
    }
   },
   "outputs": [],
   "source": [
    "data_european = pd.read_csv('data/raw/COMEPELDA_aggregate_v1.00.csv')\n",
    "data_national = pd.read_csv('data/raw/1999-2019_CHES_dataset_means.csv')\n",
    "country_codes = pd.read_csv('data/raw/countries.csv')\n",
    "party_names = pd.read_csv('data/raw/partyNames_ncv2.csv')"
   ]
  },
  {
   "cell_type": "code",
   "execution_count": 64,
   "metadata": {
    "ExecuteTime": {
     "end_time": "2024-03-31T19:58:43.818818Z",
     "start_time": "2024-03-31T19:58:43.797590Z"
    }
   },
   "outputs": [],
   "source": [
    "# Add country codes to national data\n",
    "data_european = pd.merge(data_european, country_codes, left_on='cName', right_on='Country', how='left')\n",
    "# drop 2006, 2007, 2013 years due to particular countries elections\n",
    "data_european = data_european.drop(data_european[data_european['ElYear'].isin([2006, 2007, 2013])].index)"
   ]
  },
  {
   "cell_type": "code",
   "execution_count": 65,
   "metadata": {
    "ExecuteTime": {
     "end_time": "2024-03-31T19:58:49.645932Z",
     "start_time": "2024-03-31T19:58:49.619454Z"
    }
   },
   "outputs": [],
   "source": [
    "# add country codes to european data\n",
    "data_national = pd.merge(data_national, country_codes, left_on='country', right_on='ID', how='left')"
   ]
  },
  {
   "cell_type": "code",
   "execution_count": 66,
   "metadata": {
    "ExecuteTime": {
     "end_time": "2024-03-31T19:59:04.489568Z",
     "start_time": "2024-03-31T19:59:04.464604Z"
    },
    "collapsed": false
   },
   "outputs": [],
   "source": [
    "data_national = pd.merge(data_national, party_names, left_on='party_id', right_on='partyID', how='left')"
   ]
  },
  {
   "cell_type": "code",
   "execution_count": 67,
   "metadata": {
    "ExecuteTime": {
     "end_time": "2024-04-01T10:16:39.924435Z",
     "start_time": "2024-04-01T10:16:39.863332Z"
    },
    "collapsed": false
   },
   "outputs": [],
   "source": [
    "#changed national and european order\n",
    "test_data = pd.merge(data_national,data_european, left_on=[\"Country\", 'partyName'], right_on=[\"cName\", 'pName'], how='outer', indicator=True)"
   ]
  },
  {
   "cell_type": "code",
   "execution_count": 68,
   "metadata": {},
   "outputs": [],
   "source": [
    "year_corr = {1999: 1999, \n",
    " 2004: 2002,\n",
    " 2009: 2006,\n",
    " 2014: 2014}\n",
    "eu_unique_columns = [\"Abbreviation\", \"ElYear\", \"pName\"]\n",
    "data_unique_columns = [\"Abbreviation\", \"year\", \"partyName\"]\n",
    "parties_data_eu = data_european[eu_unique_columns].drop_duplicates()\n",
    "parties_data_nat = data_national[data_unique_columns].drop_duplicates()"
   ]
  },
  {
   "cell_type": "code",
   "execution_count": 69,
   "metadata": {},
   "outputs": [],
   "source": [
    "for row in parties_data_eu.itertuples():\n",
    "    y = parties_data_nat[(parties_data_nat[\"Abbreviation\"] == row.Abbreviation) & \n",
    "                         (parties_data_nat[\"year\"] == year_corr[row.ElYear])][\"partyName\"].astype(str)\n",
    "    x = row.pName\n",
    "    result = difflib.get_close_matches(x, y, n=1)\n",
    "    if result:\n",
    "        parties_data_eu.loc[row.Index, \"correspondance\"] = result[0]\n",
    "    else: \n",
    "        parties_data_eu.loc[row.Index, \"correspondance\"] = np.nan"
   ]
  },
  {
   "cell_type": "code",
   "execution_count": 70,
   "metadata": {},
   "outputs": [
    {
     "data": {
      "text/plain": [
       "214"
      ]
     },
     "execution_count": 70,
     "metadata": {},
     "output_type": "execute_result"
    }
   ],
   "source": [
    "parties_data_eu.correspondance.isna().sum()"
   ]
  },
  {
   "cell_type": "code",
   "execution_count": 71,
   "metadata": {},
   "outputs": [],
   "source": [
    "parties_data_eu.to_csv(\"data/processed/party_correspondance.csv\", index=False)"
   ]
  }
 ],
 "metadata": {
  "kernelspec": {
   "display_name": "MBML",
   "language": "python",
   "name": "python3"
  },
  "language_info": {
   "codemirror_mode": {
    "name": "ipython",
    "version": 3
   },
   "file_extension": ".py",
   "mimetype": "text/x-python",
   "name": "python",
   "nbconvert_exporter": "python",
   "pygments_lexer": "ipython3",
   "version": "3.12.2"
  }
 },
 "nbformat": 4,
 "nbformat_minor": 2
}
