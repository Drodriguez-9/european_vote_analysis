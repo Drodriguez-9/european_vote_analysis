{
 "cells": [
  {
   "cell_type": "code",
   "execution_count": 1,
   "metadata": {},
   "outputs": [
    {
     "name": "stderr",
     "output_type": "stream",
     "text": [
      "C:\\Users\\mbust\\AppData\\Local\\Packages\\PythonSoftwareFoundation.Python.3.8_qbz5n2kfra8p0\\LocalCache\\local-packages\\Python38\\site-packages\\tqdm\\auto.py:21: TqdmWarning: IProgress not found. Please update jupyter and ipywidgets. See https://ipywidgets.readthedocs.io/en/stable/user_install.html\n",
      "  from .autonotebook import tqdm as notebook_tqdm\n"
     ]
    }
   ],
   "source": [
    "import pandas as pd\n",
    "import pyro\n",
    "import torch"
   ]
  },
  {
   "cell_type": "code",
   "execution_count": 34,
   "metadata": {},
   "outputs": [],
   "source": [
    "raw_path = \"../../data/raw/\"\n",
    "loan_default_df = pd.read_csv(raw_path + \"Loan_default.csv\")"
   ]
  },
  {
   "cell_type": "code",
   "execution_count": 32,
   "metadata": {},
   "outputs": [],
   "source": [
    "loan_default_df.head()\n",
    "loan_default_df = loan_default_df.drop('LoanID',axis=1)"
   ]
  },
  {
   "cell_type": "code",
   "execution_count": 51,
   "metadata": {},
   "outputs": [
    {
     "data": {
      "text/plain": [
       "[array([ 6.97854369e-04, -3.80513285e-04, -1.82724685e-03,  4.68818634e-03,\n",
       "        -2.14168362e-03, -2.78024759e-04,  4.60789092e-03, -2.17779617e-03,\n",
       "        -1.49896337e-03,  2.39637696e+00]),\n",
       " Age              -1.198431\n",
       " Income           -1.198361\n",
       " LoanAmount       -1.203680\n",
       " CreditScore      -1.200302\n",
       " MonthsEmployed   -1.199632\n",
       " NumCreditLines   -1.357671\n",
       " InterestRate     -1.197167\n",
       " LoanTerm         -1.299895\n",
       " DTIRatio         -1.199675\n",
       " Default           3.742652\n",
       " dtype: float64,\n",
       " Age                  18.0\n",
       " Income            15000.0\n",
       " LoanAmount         5000.0\n",
       " CreditScore         300.0\n",
       " MonthsEmployed        0.0\n",
       " NumCreditLines        1.0\n",
       " InterestRate          2.0\n",
       " LoanTerm             12.0\n",
       " DTIRatio              0.1\n",
       " Default               0.0\n",
       " dtype: float64,\n",
       " Age                   69.0\n",
       " Income            149999.0\n",
       " LoanAmount        249999.0\n",
       " CreditScore          849.0\n",
       " MonthsEmployed       119.0\n",
       " NumCreditLines         4.0\n",
       " InterestRate          25.0\n",
       " LoanTerm              60.0\n",
       " DTIRatio               0.9\n",
       " Default                1.0\n",
       " dtype: float64,\n",
       " Age                  14.990258\n",
       " Income            38963.013729\n",
       " LoanAmount        70840.706142\n",
       " CreditScore         158.903867\n",
       " MonthsEmployed       34.643376\n",
       " NumCreditLines        1.117018\n",
       " InterestRate          6.636443\n",
       " LoanTerm             16.969330\n",
       " DTIRatio              0.230917\n",
       " Default               0.320379\n",
       " dtype: float64,\n",
       " Age                   43.498306\n",
       " Income             82499.304597\n",
       " LoanAmount        127578.865512\n",
       " CreditScore          574.264346\n",
       " MonthsEmployed        59.541976\n",
       " NumCreditLines         2.501036\n",
       " InterestRate          13.492773\n",
       " LoanTerm              36.025894\n",
       " DTIRatio               0.500212\n",
       " Default                0.116128\n",
       " dtype: float64]"
      ]
     },
     "execution_count": 51,
     "metadata": {},
     "output_type": "execute_result"
    }
   ],
   "source": [
    "loan_default = loan_default_df.drop([\"LoanID\"], axis=1)\n",
    "categorical_columns = ['Education', 'EmploymentType', 'MaritalStatus', 'HasMortgage', \n",
    "                       'HasDependents', 'LoanPurpose', 'HasCoSigner']\n",
    "loan_default_df_num = loan_default.drop(categorical_columns, axis=1)\n",
    "\n",
    "numerical_columns = ['Age', 'Income', 'LoanAmount', 'CreditScore', 'MonthsEmployed', \n",
    "                     'NumCreditLines', 'InterestRate', 'LoanTerm', 'DTIRatio']\n",
    "loan_default_df_cat = loan_default.drop(numerical_columns, axis=1)\n",
    "\n",
    "num_stats =[loan_default_df_num.max(),\n",
    "            loan_default_df_num.min(),\n",
    "            loan_default_df_num.mean(),\n",
    "            loan_default_df_num.std(),\n",
    "            loan_default_df_num.skew().values,\n",
    "            loan_default_df_num.kurtosis()         \n",
    "            ]\n",
    "num_stats\n"
   ]
  },
  {
   "cell_type": "code",
   "execution_count": 3,
   "metadata": {},
   "outputs": [],
   "source": [
    "import pandas as pd\n",
    "from sklearn.model_selection import train_test_split\n",
    "from sklearn.preprocessing import LabelEncoder, StandardScaler\n",
    "import torch\n",
    "import pyro\n",
    "import pyro.distributions as dist\n",
    "from pyro.infer import SVI, Trace_ELBO\n",
    "from pyro.optim import Adam"
   ]
  },
  {
   "cell_type": "code",
   "execution_count": 4,
   "metadata": {},
   "outputs": [
    {
     "name": "stdout",
     "output_type": "stream",
     "text": [
      "Step 0 : Loss = 822149.9795074463\n",
      "Step 500 : Loss = 82473.85537350178\n",
      "Step 1000 : Loss = 91284.19500887394\n",
      "Step 1500 : Loss = 68283.68096578121\n",
      "Step 2000 : Loss = 66059.10210263729\n",
      "Step 2500 : Loss = 66148.44097816944\n",
      "Step 3000 : Loss = 65548.52555477619\n",
      "Step 3500 : Loss = 65914.88224542141\n",
      "Step 4000 : Loss = 65515.303657889366\n",
      "Step 4500 : Loss = 65062.091701865196\n",
      "Train Accuracy: 0.8850531578063965\n",
      "Test Accuracy: 0.8860387802124023\n"
     ]
    }
   ],
   "source": [
    "# Convert categorical variables to numeric\n",
    "categorical_columns = ['Education', 'EmploymentType', 'MaritalStatus', 'HasMortgage', \n",
    "                       'HasDependents', 'LoanPurpose', 'HasCoSigner']\n",
    "label_encoders = {col: LabelEncoder() for col in categorical_columns}\n",
    "\n",
    "for col in categorical_columns:\n",
    "    loan_default_df[col] = label_encoders[col].fit_transform(loan_default_df[col])\n",
    "\n",
    "# Normalize numerical features\n",
    "numerical_columns = ['Age', 'Income', 'LoanAmount', 'CreditScore', 'MonthsEmployed', \n",
    "                     'NumCreditLines', 'InterestRate', 'LoanTerm', 'DTIRatio']\n",
    "scaler = StandardScaler()\n",
    "loan_default_df[numerical_columns] = scaler.fit_transform(loan_default_df[numerical_columns])\n",
    "\n",
    "# Split the data into training and test sets\n",
    "X = loan_default_df.drop(columns=['LoanID', 'Default'])\n",
    "y = loan_default_df['Default']\n",
    "\n",
    "X_train, X_test, y_train, y_test = train_test_split(X, y, test_size=0.2, random_state=42)\n",
    "\n",
    "# Convert data to PyTorch tensors\n",
    "X_train_tensor = torch.tensor(X_train.values, dtype=torch.float32)\n",
    "y_train_tensor = torch.tensor(y_train.values, dtype=torch.float32)\n",
    "X_test_tensor = torch.tensor(X_test.values, dtype=torch.float32)\n",
    "y_test_tensor = torch.tensor(y_test.values, dtype=torch.float32)\n",
    "\n",
    "# Define the logistic regression model\n",
    "def model(X, y=None):\n",
    "    # Priors for weights and bias\n",
    "    w_prior = dist.Normal(torch.zeros(X.shape[1]), torch.ones(X.shape[1])).to_event(1)\n",
    "    b_prior = dist.Normal(0., 1.)\n",
    "    \n",
    "    # Sample weights and bias\n",
    "    weights = pyro.sample('weights', w_prior)\n",
    "    bias = pyro.sample('bias', b_prior)\n",
    "    \n",
    "    # Compute the logits\n",
    "    logits = (X @ weights) + bias\n",
    "    \n",
    "    # Likelihood\n",
    "    with pyro.plate('data', X.shape[0]):\n",
    "        y = pyro.sample('obs', dist.Bernoulli(logits=logits), obs=y)\n",
    "\n",
    "# Define the guide (variational distribution)\n",
    "def guide(X, y=None):\n",
    "    # Variational parameters for weights\n",
    "    w_loc = pyro.param('w_loc', torch.randn(X.shape[1]))\n",
    "    w_scale = pyro.param('w_scale', torch.ones(X.shape[1]), constraint=dist.constraints.positive)\n",
    "    b_loc = pyro.param('b_loc', torch.tensor(0.))\n",
    "    b_scale = pyro.param('b_scale', torch.tensor(1.), constraint=dist.constraints.positive)\n",
    "    \n",
    "    # Sample weights and bias\n",
    "    weights = pyro.sample('weights', dist.Normal(w_loc, w_scale).to_event(1))\n",
    "    bias = pyro.sample('bias', dist.Normal(b_loc, b_scale))\n",
    "\n",
    "# Define the optimizer\n",
    "optimizer = Adam({'lr': 0.01})\n",
    "\n",
    "# Define the SVI object\n",
    "svi = SVI(model, guide, optimizer, loss=Trace_ELBO())\n",
    "\n",
    "# Training the model\n",
    "num_iterations = 5000\n",
    "for step in range(num_iterations):\n",
    "    loss = svi.step(X_train_tensor, y_train_tensor)\n",
    "    if step % 500 == 0:\n",
    "        print(f'Step {step} : Loss = {loss}')\n",
    "\n",
    "# Function to predict\n",
    "def predict(X):\n",
    "    w_loc = pyro.param('w_loc')\n",
    "    b_loc = pyro.param('b_loc')\n",
    "    logits = X @ w_loc + b_loc\n",
    "    return torch.sigmoid(logits).round()\n",
    "\n",
    "# Evaluate the model\n",
    "y_pred_train = predict(X_train_tensor)\n",
    "train_accuracy = (y_pred_train == y_train_tensor).float().mean().item()\n",
    "\n",
    "y_pred_test = predict(X_test_tensor)\n",
    "test_accuracy = (y_pred_test == y_test_tensor).float().mean().item()\n",
    "\n",
    "print(f'Train Accuracy: {train_accuracy}')\n",
    "print(f'Test Accuracy: {test_accuracy}')"
   ]
  }
 ],
 "metadata": {
  "kernelspec": {
   "display_name": "Python 3",
   "language": "python",
   "name": "python3"
  },
  "language_info": {
   "codemirror_mode": {
    "name": "ipython",
    "version": 3
   },
   "file_extension": ".py",
   "mimetype": "text/x-python",
   "name": "python",
   "nbconvert_exporter": "python",
   "pygments_lexer": "ipython3",
   "version": "3.8.10"
  }
 },
 "nbformat": 4,
 "nbformat_minor": 2
}
